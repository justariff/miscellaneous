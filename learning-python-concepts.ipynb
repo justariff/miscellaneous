{
 "cells": [
  {
   "cell_type": "markdown",
   "id": "0fa68397",
   "metadata": {},
   "source": [
    "Topics covered. \n",
    "1. Lambda Function\n",
    "2. HOF (Map, Filter, Reduce)\n",
    "3. Comprehensions (List,Set,Dict)\n",
    "4. F-string\n",
    "5. Docstring\n",
    "6. Exception Handling (also Finally Keyword)\n",
    "7. Enumerate Function\n",
    "8. File Handling (also seek() & tell() functions)\n",
    "9. Constructor\n",
    "10. Decorators\n",
    "11. Getters and Setters (encapsulation)\n",
    "12. Inheritence\n",
    "13. Access Modifiers\n",
    "14. Static Method\n",
    "15. Instance variables vs Class variables\n",
    "16. Class Method\n",
    "17. Some Commonly used Methods(dir, __ dict__(), help)\n",
    "18. Super Keyword (Inheritence)\n",
    "19. Magic/Dunder Methods\n",
    "20. Method Overriding\n",
    "21. Operator Overloading\n",
    "22. Generators (including Iterable and yield keyword)\n",
    "23. Function Caching(Memoization)\n",
    "24. Multithreading and Multiprocessing\n",
    "25. Name Mingling\n",
    "26. "
   ]
  },
  {
   "cell_type": "markdown",
   "id": "fe726a50",
   "metadata": {},
   "source": [
    "### Lambda Function"
   ]
  },
  {
   "cell_type": "raw",
   "id": "46a31e82",
   "metadata": {},
   "source": [
    "lambda input : expression"
   ]
  },
  {
   "cell_type": "markdown",
   "id": "dc40b17a",
   "metadata": {},
   "source": [
    "A lambda function, also known as an anonymous function, is a way of defining a function in a single line of code without having to define a formal function. It is useful when you need to define a function for a specific task that will only be used once.\n",
    "\n",
    "Here is an example of a lambda function-"
   ]
  },
  {
   "cell_type": "code",
   "execution_count": 1,
   "id": "122a934d",
   "metadata": {
    "scrolled": false
   },
   "outputs": [
    {
     "data": {
      "text/plain": [
       "16"
      ]
     },
     "execution_count": 1,
     "metadata": {},
     "output_type": "execute_result"
    }
   ],
   "source": [
    "x = lambda x : x**2\n",
    "x(4)"
   ]
  },
  {
   "cell_type": "code",
   "execution_count": 2,
   "id": "f86dc538",
   "metadata": {},
   "outputs": [
    {
     "data": {
      "text/plain": [
       "13"
      ]
     },
     "execution_count": 2,
     "metadata": {},
     "output_type": "execute_result"
    }
   ],
   "source": [
    "a = lambda x,y : x+y\n",
    "a(7,6)"
   ]
  },
  {
   "cell_type": "code",
   "execution_count": 3,
   "id": "63708e8b",
   "metadata": {},
   "outputs": [
    {
     "data": {
      "text/plain": [
       "True"
      ]
     },
     "execution_count": 3,
     "metadata": {},
     "output_type": "execute_result"
    }
   ],
   "source": [
    "b = lambda x : x[0] == 'a'\n",
    "b('arif')\n"
   ]
  },
  {
   "cell_type": "code",
   "execution_count": 4,
   "id": "f64367a8",
   "metadata": {},
   "outputs": [
    {
     "data": {
      "text/plain": [
       "'odd'"
      ]
     },
     "execution_count": 4,
     "metadata": {},
     "output_type": "execute_result"
    }
   ],
   "source": [
    "c = lambda x : 'Even' if x%2==0 else 'odd'\n",
    "c(9)"
   ]
  },
  {
   "cell_type": "markdown",
   "id": "947289cd",
   "metadata": {},
   "source": [
    "## Higher Order Function in Python"
   ]
  },
  {
   "cell_type": "raw",
   "id": "8b51a8cd",
   "metadata": {},
   "source": [
    "A function is called Higher Order Function if it contains other functions as a parameter or returns a function as an output i.e, the functions that operate with another function are known as Higher order Functions. It is worth knowing that this higher order function is applicable for functions and methods as well that takes functions as a parameter or returns a function as a result. Python too supports the concepts of higher order functions.\n",
    "\n",
    "Properties of higher-order functions:\n",
    "\n",
    "A function is an instance of the Object type\n",
    "You can store the function in a variable.\n",
    "You can pass the function as a parameter to another function.\n",
    "You can return the function from a function.\n",
    "You can store them in data structures such as hash tables, lists, …"
   ]
  },
  {
   "cell_type": "markdown",
   "id": "9fc67726",
   "metadata": {},
   "source": [
    "### HOF in Python are Map(), Filter(), Reduce()"
   ]
  },
  {
   "cell_type": "code",
   "execution_count": 5,
   "id": "8979a5a8",
   "metadata": {},
   "outputs": [
    {
     "name": "stdout",
     "output_type": "stream",
     "text": [
      "<map object at 0x000001F76AAF3940>\n",
      "[2, 4, 6, 8, 10, 12, 14]\n"
     ]
    }
   ],
   "source": [
    "# Map\n",
    "\n",
    "L = [1,2,3,4,5,6,7]\n",
    "a = map(lambda x:x*2, L)\n",
    "print(a)\n",
    "a = list(map(lambda x:x*2, L))\n",
    "print(a)"
   ]
  },
  {
   "cell_type": "code",
   "execution_count": 6,
   "id": "36c24209",
   "metadata": {},
   "outputs": [
    {
     "data": {
      "text/plain": [
       "['ODD', 'Even', 'ODD', 'Even', 'ODD', 'Even', 'ODD']"
      ]
     },
     "execution_count": 6,
     "metadata": {},
     "output_type": "execute_result"
    }
   ],
   "source": [
    "list(map(lambda x : 'Even' if x%2==0 else 'ODD', L))"
   ]
  },
  {
   "cell_type": "code",
   "execution_count": 7,
   "id": "a6124d1c",
   "metadata": {},
   "outputs": [],
   "source": [
    "#"
   ]
  },
  {
   "cell_type": "code",
   "execution_count": 8,
   "id": "b81f53a8",
   "metadata": {},
   "outputs": [
    {
     "data": {
      "text/plain": [
       "[5, 6, 7]"
      ]
     },
     "execution_count": 8,
     "metadata": {},
     "output_type": "execute_result"
    }
   ],
   "source": [
    "# Filter\n",
    "\n",
    "b = list(filter(lambda x: x>4,L))\n",
    "b"
   ]
  },
  {
   "cell_type": "code",
   "execution_count": 9,
   "id": "f620a70c",
   "metadata": {},
   "outputs": [
    {
     "data": {
      "text/plain": [
       "['Apple', 'Orange']"
      ]
     },
     "execution_count": 9,
     "metadata": {},
     "output_type": "execute_result"
    }
   ],
   "source": [
    "fruits = ['Apple','Orange','Mango','Guava']\n",
    "list(filter(lambda fruit : 'e' in fruit, fruits))"
   ]
  },
  {
   "cell_type": "code",
   "execution_count": 10,
   "id": "dd2db28f",
   "metadata": {},
   "outputs": [],
   "source": [
    "#"
   ]
  },
  {
   "cell_type": "code",
   "execution_count": 11,
   "id": "60e1164c",
   "metadata": {},
   "outputs": [
    {
     "data": {
      "text/plain": [
       "28"
      ]
     },
     "execution_count": 11,
     "metadata": {},
     "output_type": "execute_result"
    }
   ],
   "source": [
    "# Reduce\n",
    "# --> its not directly, we've to import if first\n",
    "\n",
    "from functools import reduce\n",
    "\n",
    "reduce(lambda x,y : x+y, L)"
   ]
  },
  {
   "cell_type": "code",
   "execution_count": 12,
   "id": "c071958b",
   "metadata": {},
   "outputs": [
    {
     "data": {
      "text/plain": [
       "63"
      ]
     },
     "execution_count": 12,
     "metadata": {},
     "output_type": "execute_result"
    }
   ],
   "source": [
    "L1 = [12,34,56,11,21,63]\n",
    "reduce(lambda x,y: x if x>y else y,L1)"
   ]
  },
  {
   "cell_type": "markdown",
   "id": "6859115c",
   "metadata": {},
   "source": [
    "## Comprehensions\n",
    "#### List Comprehensions\n",
    "#### Set Comprehensions\n",
    "#### Dict Comprehensions"
   ]
  },
  {
   "cell_type": "code",
   "execution_count": 13,
   "id": "3a6fc185",
   "metadata": {},
   "outputs": [],
   "source": [
    "## Pythonic way to write better form of code (4-5 lines of code in a single line)"
   ]
  },
  {
   "cell_type": "code",
   "execution_count": 14,
   "id": "f13413a2",
   "metadata": {},
   "outputs": [
    {
     "name": "stdout",
     "output_type": "stream",
     "text": [
      "[0, 5, 10, 15, 20, 25, 30, 35, 40, 45]\n"
     ]
    }
   ],
   "source": [
    "# list comprehension\n",
    "#normal way\n",
    "list1 = []\n",
    "for a in range(50):\n",
    "    if a%5==0:\n",
    "        list1.append(a)\n",
    "print(list1)"
   ]
  },
  {
   "cell_type": "code",
   "execution_count": 15,
   "id": "4542cb19",
   "metadata": {
    "scrolled": false
   },
   "outputs": [
    {
     "name": "stdout",
     "output_type": "stream",
     "text": [
      "[0, 5, 10, 15, 20, 25, 30, 35, 40, 45]\n"
     ]
    }
   ],
   "source": [
    "# using list comprehension\n",
    "list1 = [a for a in range(50) if a%5==0]\n",
    "print(list1)"
   ]
  },
  {
   "cell_type": "code",
   "execution_count": 16,
   "id": "aa4235ef",
   "metadata": {},
   "outputs": [
    {
     "data": {
      "text/plain": [
       "[0, 1, 4, 9, 16, 25, 36]"
      ]
     },
     "execution_count": 16,
     "metadata": {},
     "output_type": "execute_result"
    }
   ],
   "source": [
    "# eg.2\n",
    "L2 = [i**2 for i in range(7)]\n",
    "L2"
   ]
  },
  {
   "cell_type": "code",
   "execution_count": 17,
   "id": "eb8528be",
   "metadata": {},
   "outputs": [],
   "source": [
    "#"
   ]
  },
  {
   "cell_type": "code",
   "execution_count": 18,
   "id": "ec9af126",
   "metadata": {},
   "outputs": [
    {
     "data": {
      "text/plain": [
       "{'a', 'e', 'q', 'r'}"
      ]
     },
     "execution_count": 18,
     "metadata": {},
     "output_type": "execute_result"
    }
   ],
   "source": [
    "# set comprehension\n",
    "alpha = {alpha for alpha in ['a','e','r','a','q','r','a']}\n",
    "alpha"
   ]
  },
  {
   "cell_type": "code",
   "execution_count": 19,
   "id": "97aa5c02",
   "metadata": {},
   "outputs": [],
   "source": [
    "#"
   ]
  },
  {
   "cell_type": "code",
   "execution_count": 20,
   "id": "225e7727",
   "metadata": {},
   "outputs": [],
   "source": [
    "# Dict Comprehension\n",
    "D = {'Name':'Arif','Gender':'Male','College':'GEU',\n",
    "    'Name':'Sam','Gender':'Male','College':'ABC'}"
   ]
  },
  {
   "cell_type": "code",
   "execution_count": 21,
   "id": "8c8f11a5",
   "metadata": {},
   "outputs": [
    {
     "data": {
      "text/plain": [
       "{'Name': 'Sam', 'Gender': 'Male', 'College': 'ABC'}"
      ]
     },
     "execution_count": 21,
     "metadata": {},
     "output_type": "execute_result"
    }
   ],
   "source": [
    "D1 = {key:value for key,value in D.items() if len(key)>3}\n",
    "D1"
   ]
  },
  {
   "cell_type": "code",
   "execution_count": 22,
   "id": "86f31abb",
   "metadata": {},
   "outputs": [
    {
     "name": "stdout",
     "output_type": "stream",
     "text": [
      "[1, 2, 3, 4, 5, 6, 7]\n",
      "{1: 1, 2: 4, 3: 9, 4: 16, 5: 25, 6: 36, 7: 49}\n"
     ]
    }
   ],
   "source": [
    "# eg.2\n",
    "print(L)\n",
    "D2 = {item:item**2 for item in L}\n",
    "print(D2)"
   ]
  },
  {
   "cell_type": "code",
   "execution_count": 23,
   "id": "c4084c82",
   "metadata": {},
   "outputs": [
    {
     "name": "stdout",
     "output_type": "stream",
     "text": [
      "[1, 2, 3, 4, 5, 6, 7]\n",
      "{1: 1, 3: 9, 5: 25, 7: 49}\n"
     ]
    }
   ],
   "source": [
    "# eg.3\n",
    "print(L)\n",
    "D2 = {item:item**2 for item in L if item%2!=0}\n",
    "print(D2)"
   ]
  },
  {
   "cell_type": "code",
   "execution_count": 24,
   "id": "0e2cc11e",
   "metadata": {},
   "outputs": [
    {
     "data": {
      "text/plain": [
       "{0: 'item0', 1: 'item1', 2: 'item2', 3: 'item3', 4: 'item4'}"
      ]
     },
     "execution_count": 24,
     "metadata": {},
     "output_type": "execute_result"
    }
   ],
   "source": [
    "# eg.3\n",
    "Normaldict = { 0:'item0',\n",
    "              1:'item1',\n",
    "              2:'item2',\n",
    "              3:'item3',\n",
    "              4:'item4'\n",
    "}\n",
    "Normaldict"
   ]
  },
  {
   "cell_type": "code",
   "execution_count": 25,
   "id": "a1ebffca",
   "metadata": {},
   "outputs": [
    {
     "data": {
      "text/plain": [
       "{0: 'Item0', 1: 'Item1', 2: 'Item2', 3: 'Item3', 4: 'Item4'}"
      ]
     },
     "execution_count": 25,
     "metadata": {},
     "output_type": "execute_result"
    }
   ],
   "source": [
    "compactdict = {i : f\"Item{i}\" for i in range(5)}\n",
    "compactdict"
   ]
  },
  {
   "cell_type": "markdown",
   "id": "f2426920",
   "metadata": {},
   "source": [
    "### F-String"
   ]
  },
  {
   "cell_type": "markdown",
   "id": "1d731bd2",
   "metadata": {},
   "source": [
    "An f-string, also known as formatted string literals, is a way of formatting strings in Python 3.6 and later versions. It is a concise and convenient way of embedding expressions inside string literals, allowing you to create strings that are more readable and easier to write."
   ]
  },
  {
   "cell_type": "code",
   "execution_count": 26,
   "id": "260973f4",
   "metadata": {},
   "outputs": [
    {
     "name": "stdout",
     "output_type": "stream",
     "text": [
      "Hey! My name is Arif and I'm from India.\n"
     ]
    }
   ],
   "source": [
    "country = \"India\"\n",
    "name = \"Arif\"\n",
    "print(f\"Hey! My name is {name} and I'm from {country}.\")"
   ]
  },
  {
   "cell_type": "markdown",
   "id": "dc460435",
   "metadata": {},
   "source": [
    "### Docstring"
   ]
  },
  {
   "cell_type": "raw",
   "id": "1eaae0ed",
   "metadata": {},
   "source": [
    "Python docstrings are the string literals that appear right after the definition of a function, method, class, or module."
   ]
  },
  {
   "cell_type": "code",
   "execution_count": 27,
   "id": "b422d96d",
   "metadata": {},
   "outputs": [
    {
     "name": "stdout",
     "output_type": "stream",
     "text": [
      "16\n",
      "Takes in a number n, returns the\n",
      "    square of n\n"
     ]
    }
   ],
   "source": [
    "def square(n):\n",
    "    '''Takes in a number n, returns the\n",
    "    square of n'''\n",
    "    print(n**2)\n",
    "square(4)\n",
    "print(square.__doc__) # it implies, its not like normal comments. Got some values"
   ]
  },
  {
   "cell_type": "markdown",
   "id": "3e149338",
   "metadata": {},
   "source": [
    "### Exception Handling"
   ]
  },
  {
   "cell_type": "markdown",
   "id": "6795dcbd",
   "metadata": {},
   "source": [
    "Exception handling is a way to handle errors and unexpected events that can occur during program execution. In Python, exceptions are raised when an error or unexpected event occurs, and they can be caught and handled using try-except blocks."
   ]
  },
  {
   "cell_type": "code",
   "execution_count": 4,
   "id": "40771e50",
   "metadata": {
    "scrolled": true
   },
   "outputs": [
    {
     "name": "stdout",
     "output_type": "stream",
     "text": [
      "An error occured\n"
     ]
    }
   ],
   "source": [
    "# a = 3\n",
    "try:\n",
    "    print(a)   # since a is not defined\n",
    "except:\n",
    "    print(\"An error occured\")"
   ]
  },
  {
   "cell_type": "code",
   "execution_count": 5,
   "id": "002ae61e",
   "metadata": {},
   "outputs": [
    {
     "name": "stdout",
     "output_type": "stream",
     "text": [
      "Something went wrong\n",
      "I am always executed!\n"
     ]
    }
   ],
   "source": [
    "# Final keyword in exception handling\n",
    "\n",
    "try:\n",
    "    print(x1)\n",
    "except:\n",
    "    print(\"Something went wrong\")\n",
    "finally:\n",
    "    print(\"I am always executed!\")\n",
    "\n",
    "# interview sawal ye hai ki agar finally har baar print hoga toh phir finally keyword lagane ki zarorat hi kya hai,simply print fn laga do\n",
    "# so the answer is ki agar hum kisi function ke andar try except kar rhe ho toh maybe print na chale but finally hamesha chalega..issliye lagate hai"
   ]
  },
  {
   "cell_type": "markdown",
   "id": "f50445d9",
   "metadata": {},
   "source": [
    "### Enumerate Function"
   ]
  },
  {
   "cell_type": "markdown",
   "id": "2efb5cfb",
   "metadata": {},
   "source": [
    "Enumerate function is a built-in function in Python that allows you to loop over a sequence(such as list,tuple or string) and get the index and value of each elements in the sequence at the same time."
   ]
  },
  {
   "cell_type": "code",
   "execution_count": 30,
   "id": "d63320c7",
   "metadata": {},
   "outputs": [
    {
     "name": "stdout",
     "output_type": "stream",
     "text": [
      "Jarvis Please buy Aloo\n",
      "Jarvis Please buy Palak\n",
      "Jarvis Please buy Mooli\n"
     ]
    }
   ],
   "source": [
    "L1 = ['Aloo','Gobi','Palak','Gajar','Mooli','Louki']\n",
    "# say we dont need item at 2,4,6.. then the general code would be-\n",
    "\n",
    "i = 1\n",
    "for item in L1:\n",
    "    if i%2 != 0:\n",
    "        print(f\"Jarvis Please buy {item}\")\n",
    "    i+=1"
   ]
  },
  {
   "cell_type": "code",
   "execution_count": 31,
   "id": "3a106c65",
   "metadata": {},
   "outputs": [
    {
     "name": "stdout",
     "output_type": "stream",
     "text": [
      "Jarvis Please buy Aloo\n",
      "Jarvis Please buy Palak\n",
      "Jarvis Please buy Mooli\n"
     ]
    }
   ],
   "source": [
    "# Using Enumerate Function\n",
    "for index,item in enumerate(L1):\n",
    "    if index%2==0:\n",
    "        print(f\"Jarvis Please buy {item}\")"
   ]
  },
  {
   "cell_type": "markdown",
   "id": "a4d00530",
   "metadata": {},
   "source": [
    "### File Handling"
   ]
  },
  {
   "cell_type": "markdown",
   "id": "d25a7c8c",
   "metadata": {},
   "source": [
    "File handling in Python allows us to read from and write to files. Python provides built-in functions and methods to work with files.\n",
    "\n",
    "There are three main steps to file handling in Python: opening the file, reading or writing to the file, and closing the file."
   ]
  },
  {
   "cell_type": "code",
   "execution_count": 32,
   "id": "2357073c",
   "metadata": {},
   "outputs": [
    {
     "name": "stdout",
     "output_type": "stream",
     "text": [
      "Hey I am inside withHey I am inside with\n",
      "Line No. 2 \n"
     ]
    }
   ],
   "source": [
    "# Reading a file\n",
    "f = open('myfile.txt','r')\n",
    "text = f.read()\n",
    "print(text)\n",
    "f.close()"
   ]
  },
  {
   "cell_type": "code",
   "execution_count": 33,
   "id": "c8471345",
   "metadata": {},
   "outputs": [],
   "source": [
    "# Writing in a file\n",
    "f = open('myfile3.txt','w')\n",
    "f.write('Hello World!')\n",
    "f.close()"
   ]
  },
  {
   "cell_type": "code",
   "execution_count": 34,
   "id": "8a00aad4",
   "metadata": {},
   "outputs": [],
   "source": [
    "# Using with block to open Python files\n",
    "with open('myfile.txt','a') as f:\n",
    "    f.write(\"Hey I am inside with\")  # with use karne se hame close() karne ki zaroorat nahi hai automatic ho jata h"
   ]
  },
  {
   "cell_type": "code",
   "execution_count": 35,
   "id": "824bc843",
   "metadata": {},
   "outputs": [
    {
     "name": "stdout",
     "output_type": "stream",
     "text": [
      "Hey I am inside withHey I am inside with\n",
      "\n",
      "Line No. 2 Hey I am inside with\n"
     ]
    }
   ],
   "source": [
    "# readline() = kisi file ko line by line read karta hai\n",
    "\n",
    "f = open('myfile.txt','r')\n",
    "while True:\n",
    "    line = f.readline()\n",
    "    if not line:\n",
    "        break\n",
    "    print(line)"
   ]
  },
  {
   "cell_type": "markdown",
   "id": "047ca2c3",
   "metadata": {},
   "source": [
    "#### seek() and tell() in File Handling"
   ]
  },
  {
   "cell_type": "markdown",
   "id": "702a39cc",
   "metadata": {},
   "source": [
    "The tell() method returns the current file position in a file stream.\n",
    "\n",
    "Tip: You can change the current file position with the seek() method."
   ]
  },
  {
   "cell_type": "code",
   "execution_count": 36,
   "id": "841c642d",
   "metadata": {},
   "outputs": [
    {
     "name": "stdout",
     "output_type": "stream",
     "text": [
      "nside\n",
      "15\n"
     ]
    }
   ],
   "source": [
    "with open('myfile.txt','r') as f:\n",
    "    # Move to the 10th byte in the file\n",
    "    f.seek(10)\n",
    "    \n",
    "    #read the next 5 bytes (daswe ke aage wala read hoga)\n",
    "    data = f.read(5)\n",
    "    print(data)\n",
    "    \n",
    "    print(f.tell())  # batayega kitna seek ho raha hai"
   ]
  },
  {
   "cell_type": "markdown",
   "id": "222531fd",
   "metadata": {},
   "source": [
    "### Constructor"
   ]
  },
  {
   "cell_type": "markdown",
   "id": "68cd1367",
   "metadata": {},
   "source": [
    "A constructor is a special method in a class used to create and initialize an object of a class. There are different types of constructors. Constructor is invoked automatically when an object of a class is created.\n",
    "\n",
    "A constructor is a unique function that gets called automatically when an object is created of a class. The main purpose of a constructor is to initialize or assign values to the data members of that class. It cannot return any value other than None."
   ]
  },
  {
   "cell_type": "markdown",
   "id": "7b45387a",
   "metadata": {},
   "source": [
    "Types of Constructors in Python:\n",
    "\n",
    "(i) Parameterized Constructor and (ii) Default Constructor"
   ]
  },
  {
   "cell_type": "code",
   "execution_count": 4,
   "id": "897d9336",
   "metadata": {},
   "outputs": [
    {
     "name": "stdout",
     "output_type": "stream",
     "text": [
      "Arif is a Data Scientist\n",
      "Sarah is a Developer\n"
     ]
    }
   ],
   "source": [
    "class Person:\n",
    "    def __init__(self,name,occ):\n",
    "        self.name = name\n",
    "        self.occ = occ\n",
    "        \n",
    "    def info(self):\n",
    "        print(f\"{self.name} is a {self.occ}\")\n",
    "        \n",
    "a = Person(\"Arif\",\"Data Scientist\")\n",
    "b = Person(\"Sarah\",\"Developer\")\n",
    "a.info()\n",
    "b.info()"
   ]
  },
  {
   "cell_type": "markdown",
   "id": "f85de0da",
   "metadata": {},
   "source": [
    "### Decorators"
   ]
  },
  {
   "cell_type": "markdown",
   "id": "b040e21a",
   "metadata": {},
   "source": [
    "Decorators are a very powerful and useful tool in Python since it allows programmers to modify the behaviour of a function or class. Decorators allow us to wrap another function in order to extend the behaviour of the wrapped function, without permanently modifying it.\n",
    "\n",
    "A decorator is a function that takes another function as an argument and returns a new function that modifies the behavior of the original function. The new function is often referred to as a \"decorated\" function. The basic syntax for using a decorator is the following:"
   ]
  },
  {
   "cell_type": "raw",
   "id": "af095666",
   "metadata": {},
   "source": [
    "@decorator_function\n",
    "def my_function():\n",
    "    pass"
   ]
  },
  {
   "cell_type": "code",
   "execution_count": 1,
   "id": "be8710df",
   "metadata": {},
   "outputs": [
    {
     "name": "stdout",
     "output_type": "stream",
     "text": [
      "2.0\n",
      "2.0\n"
     ]
    }
   ],
   "source": [
    "## example 1\n",
    "def div(a,b):\n",
    "    print(a/b)\n",
    "\n",
    "def decorated_div(func):\n",
    "    def inner(a,b):\n",
    "        if a<b:\n",
    "            a,b = b,a    #swap\n",
    "        return func(a,b)\n",
    "    return inner\n",
    "\n",
    "div1 = decorated_div(div)\n",
    "div1(4,2)\n",
    "div1(2,4)\n",
    "\n",
    "#div(4,2)\n",
    "#div(2,4)  # but hame abhi numerator hamesha bada rakhna hai aur actual function me-\n",
    "          #  -change nhi kar sakte coz baki ke cheze hil jayengi thats why we'll use decorator"
   ]
  },
  {
   "cell_type": "code",
   "execution_count": 5,
   "id": "b8e0f5ce",
   "metadata": {},
   "outputs": [
    {
     "name": "stdout",
     "output_type": "stream",
     "text": [
      "Before the function is called.\n",
      "Hello!\n",
      "After the function is called.\n"
     ]
    }
   ],
   "source": [
    "## example 2\n",
    "def my_decorator(func):\n",
    "    def wrapper():\n",
    "        print(\"Before the function is called.\")\n",
    "        func()\n",
    "        print(\"After the function is called.\")\n",
    "    return wrapper\n",
    "\n",
    "@my_decorator\n",
    "def say_hello():\n",
    "    print(\"Hello!\")\n",
    "\n",
    "say_hello()"
   ]
  },
  {
   "cell_type": "raw",
   "id": "1e7d3317",
   "metadata": {},
   "source": [
    "In this example, my_decorator is the decorator function. It takes a single argument, func, which is the function that we want to modify. Inside my_decorator, we define a new function called wrapper. wrapper adds some extra functionality before and after the original function is called. Finally, wrapper is returned.\n",
    "\n",
    "To apply the my_decorator function to the say_hello function, we use the @my_decorator syntax. This tells Python to pass say_hello as an argument to my_decorator, and to replace say_hello with the modified version of the function that is returned by my_decorator.\n",
    "\n",
    "When we call say_hello(), the modified version of the function is executed. In this case, it adds some extra print statements before and after the original print(\"Hello!\") statement."
   ]
  },
  {
   "cell_type": "markdown",
   "id": "d9b97de2",
   "metadata": {},
   "source": [
    "### Getters and Setters"
   ]
  },
  {
   "cell_type": "markdown",
   "id": "94fce15c",
   "metadata": {},
   "source": [
    "In object-oriented programming, getters and setters are methods that are used to get and set the values of an object's attributes. They are often used to control access to an object's internal state, and to enforce constraints on the values that can be assigned to an attribute.\n",
    "\n",
    "Here's a simple example of a class with getters and setters:"
   ]
  },
  {
   "cell_type": "code",
   "execution_count": 40,
   "id": "70ffa144",
   "metadata": {},
   "outputs": [],
   "source": [
    "# getter and setters are encapsulation concepts\n",
    "\n",
    "class Person:\n",
    "    def __init__(self, name):\n",
    "        self._name = name\n",
    "    \n",
    "    @property\n",
    "    def name(self):\n",
    "        return self._name\n",
    "    \n",
    "    @name.setter\n",
    "    def name(self, name):\n",
    "        self._name = name\n"
   ]
  },
  {
   "cell_type": "markdown",
   "id": "d6ffc50f",
   "metadata": {},
   "source": [
    "In this example, we have a Person class with a single attribute _name. We've defined two methods using the @property decorator: name and name.setter.\n",
    "\n",
    "The name method is a getter that simply returns the value of _name. Because it's decorated with @property, we can access it like an attribute, without using parentheses.\n",
    "\n",
    "The name.setter method is a setter that sets the value of _name to a new value. It takes a single argument (name) and assigns it to the _name attribute. Because it's decorated with @name.setter, we can use it to set the value of name like an attribute, without using parentheses.\n",
    "\n",
    "Here's how you might use this class:"
   ]
  },
  {
   "cell_type": "code",
   "execution_count": 41,
   "id": "0bff577b",
   "metadata": {},
   "outputs": [
    {
     "name": "stdout",
     "output_type": "stream",
     "text": [
      "Alice\n",
      "Bob\n"
     ]
    }
   ],
   "source": [
    "person = Person(\"Alice\")\n",
    "print(person.name)  # Output: \"Alice\"\n",
    "person.name = \"Bob\"\n",
    "print(person.name)  # Output: \"Bob\"\n"
   ]
  },
  {
   "cell_type": "markdown",
   "id": "c7c764cf",
   "metadata": {},
   "source": [
    "In this example, we create a new Person object with the name \"Alice\". We use the name property to get the value of the _name attribute, which is \"Alice\". We then use the name property again to set the value of _name to \"Bob\", and we use it once more to confirm that the value has been changed to \"Bob\"."
   ]
  },
  {
   "cell_type": "markdown",
   "id": "9f9033f9",
   "metadata": {},
   "source": [
    "### Inheritence"
   ]
  },
  {
   "cell_type": "markdown",
   "id": "9b0f11c2",
   "metadata": {},
   "source": [
    "When a class derives from another class. The child class will inherit all the public and protected properties and methods from the parent class. In addition, it can have its own properties and methods,this is called as inheritance."
   ]
  },
  {
   "cell_type": "raw",
   "id": "21747129",
   "metadata": {},
   "source": [
    "Types of inheritance:\n",
    "\n",
    "Single inheritance\n",
    "Multiple inheritance\n",
    "Multilevel inheritance\n",
    "Hierarchical Inheritance\n",
    "Hybrid Inheritance"
   ]
  },
  {
   "cell_type": "code",
   "execution_count": 42,
   "id": "7e106465",
   "metadata": {},
   "outputs": [],
   "source": [
    "class Animal:\n",
    "    def __init__(self, name):\n",
    "        self.name = name\n",
    "    \n",
    "    def speak(self):\n",
    "        print(f\"{self.name} says hello!\")\n",
    "        \n",
    "class Dog(Animal):\n",
    "    def __init__(self, name):\n",
    "        Animal.__init__(self,name)\n",
    "        \n",
    "    def speak(self):\n",
    "        print(f\"{self.name} says woof!\")"
   ]
  },
  {
   "cell_type": "markdown",
   "id": "8db7c4ff",
   "metadata": {},
   "source": [
    "In this example, we have two classes: Animal and Dog. The Animal class has a single attribute name and a speak method that prints a greeting. The Dog class is a subclass of Animal and inherits the name attribute and speak method from its parent. It overrides the speak method to print \"woof\" instead of \"hello\".\n",
    "\n",
    "Here's how you might use these classes:"
   ]
  },
  {
   "cell_type": "code",
   "execution_count": 43,
   "id": "9d7f001a",
   "metadata": {},
   "outputs": [
    {
     "name": "stdout",
     "output_type": "stream",
     "text": [
      "Generic Animal says hello!\n",
      "Fido says woof!\n"
     ]
    }
   ],
   "source": [
    "animal = Animal(\"Generic Animal\")\n",
    "animal.speak()\n",
    "\n",
    "dog = Dog(\"Fido\")\n",
    "dog.speak()"
   ]
  },
  {
   "cell_type": "markdown",
   "id": "efbf8143",
   "metadata": {},
   "source": [
    "In this example, we create an Animal object with the name \"Generic Animal\" and call its speak method, which prints \"hello\". We then create a Dog object with the name \"Fido\" and call its speak method, which prints \"woof\".\n",
    "\n",
    "Notice how the Dog object inherits the name attribute from its parent Animal class, and how the speak method is overridden in the Dog class to provide a different behavior."
   ]
  },
  {
   "cell_type": "markdown",
   "id": "13465a29",
   "metadata": {},
   "source": [
    "### Access Modifiers"
   ]
  },
  {
   "cell_type": "markdown",
   "id": "fe56c81d",
   "metadata": {},
   "source": [
    "Access modifiers are used in object-oriented programming to restrict access to certain attributes or methods of a class from outside the class. Python has three access modifiers:\n",
    "\n",
    "(      -- Man's Programming Language --\n",
    "It's important to note that Python does not have true access modifiers like some other programming languages. In Python, all attributes and methods are public by default, and access modifiers are simply a convention that developers follow to indicate how the members of a class should be used.\n",
    ")\n",
    "1. Public: Public members are accessible from anywhere in the program. In Python, you can create a public attribute or method by simply defining it in the class without any access modifier. For example:"
   ]
  },
  {
   "cell_type": "code",
   "execution_count": 44,
   "id": "819954aa",
   "metadata": {},
   "outputs": [],
   "source": [
    "class MyClass:\n",
    "    def public_method(self):\n",
    "        print(\"This is a public method.\")\n",
    "    public_attribute = 42"
   ]
  },
  {
   "cell_type": "markdown",
   "id": "2bb336e2",
   "metadata": {},
   "source": [
    "In this example, both the public_method() and public_attribute are public members of the MyClass class, which means they can be accessed from anywhere in the program.\n",
    "\n",
    "2. Protected: Protected members are accessible only within the class and its subclasses. In Python, you can create a protected attribute or method by prefixing it with a single underscore _. For example:"
   ]
  },
  {
   "cell_type": "code",
   "execution_count": 45,
   "id": "5f4f556d",
   "metadata": {},
   "outputs": [],
   "source": [
    "class MyClass:\n",
    "    def _protected_method(self):\n",
    "        print(\"This is a protected method.\")\n",
    "    _protected_attribute = 42"
   ]
  },
  {
   "cell_type": "markdown",
   "id": "51ff33f3",
   "metadata": {},
   "source": [
    "In this example, both the _protected_method() and _protected_attribute are protected members of the MyClass class, which means they can be accessed only within the class and its subclasses.\n",
    "\n",
    "3. Private: Private members are accessible only within the class. In Python, you can create a private attribute or method by prefixing it with two underscores __. For example:"
   ]
  },
  {
   "cell_type": "code",
   "execution_count": 46,
   "id": "f24c4d0d",
   "metadata": {},
   "outputs": [],
   "source": [
    "class MyClass:\n",
    "    def __private_method(self):\n",
    "        print(\"This is a private method.\")\n",
    "    __private_attribute = 42"
   ]
  },
  {
   "cell_type": "markdown",
   "id": "6afd6691",
   "metadata": {},
   "source": [
    "In this example, both the __private_method() and __private_attribute are private members of the MyClass class, which means they can be accessed only within the class."
   ]
  },
  {
   "cell_type": "markdown",
   "id": "21e349c0",
   "metadata": {},
   "source": [
    "Here's an example that demonstrates how access modifiers can be used in Python:"
   ]
  },
  {
   "cell_type": "code",
   "execution_count": 3,
   "id": "11b02bd0",
   "metadata": {},
   "outputs": [],
   "source": [
    "class Person:\n",
    "    def __init__(self, name, age):\n",
    "        self.name = name\n",
    "        self._age = age\n",
    "        self.__password = \"1234\"\n",
    "    \n",
    "    def greet(self):\n",
    "        print(f\"Hello, my name is {self.name}.\")\n",
    "        \n",
    "    def get_age(self):\n",
    "        return self._age\n",
    "    \n",
    "    def set_age(self, age):\n",
    "        self._age = age\n",
    "    \n",
    "    def get_password(self):\n",
    "        return self.__password\n",
    "    \n",
    "    def set_password(self, password):\n",
    "        self.__password = password"
   ]
  },
  {
   "cell_type": "markdown",
   "id": "f609193a",
   "metadata": {},
   "source": [
    "In this example, the Person class has three attributes: name, _age, and __password. The name attribute is public, the _age attribute is protected, and the __password attribute is private.\n",
    "\n",
    "The Person class also has three methods: greet(), get_age(), and set_age(). The greet() method is public, while the get_age() and set_age() methods are protected since they operate on the protected _age attribute.\n",
    "\n",
    "Finally, the Person class has two methods: get_password() and set_password(). These methods are used to access and modify the private __password attribute.\n",
    "\n",
    "Using access modifiers can help make your code more modular and easier to maintain by limiting the ways in which other code can interact with the attributes and methods of your classes."
   ]
  },
  {
   "cell_type": "markdown",
   "id": "03268d2c",
   "metadata": {},
   "source": [
    "### Static Method"
   ]
  },
  {
   "cell_type": "markdown",
   "id": "8ae3da1f",
   "metadata": {},
   "source": [
    "Static method is a method that belongs to a class, but does not access any instance-specific state. In other words, it does not require an instance of the class to be created in order to be called. Static methods are defined using the @staticmethod decorator.\n",
    "\n",
    "Here's an example of a static method:"
   ]
  },
  {
   "cell_type": "code",
   "execution_count": 48,
   "id": "00223692",
   "metadata": {},
   "outputs": [],
   "source": [
    "class Math:\n",
    "    @staticmethod\n",
    "    def add(x,y):\n",
    "        return x+y"
   ]
  },
  {
   "cell_type": "markdown",
   "id": "3e77102d",
   "metadata": {},
   "source": [
    "In this example, the Math class has a static method called add(), which takes two arguments x and y and returns their sum. The @staticmethod decorator is used to indicate that this is a static method.\n",
    "\n",
    "Static methods can be called on the class itself, rather than an instance of the class:"
   ]
  },
  {
   "cell_type": "code",
   "execution_count": 49,
   "id": "169535d9",
   "metadata": {},
   "outputs": [
    {
     "name": "stdout",
     "output_type": "stream",
     "text": [
      "15\n"
     ]
    }
   ],
   "source": [
    "result = Math.add(6,9)\n",
    "print(result)"
   ]
  },
  {
   "cell_type": "markdown",
   "id": "9246ed6f",
   "metadata": {},
   "source": [
    "In this example, the add() method is called on the Math class directly, without creating an instance of the Math class.\n",
    "\n",
    "Static methods can be useful when you have a method that belongs to a class conceptually, but doesn't require access to any instance-specific data. By defining the method as a static method, you can call it directly on the class, without having to create an instance of the class first."
   ]
  },
  {
   "cell_type": "markdown",
   "id": "370612a7",
   "metadata": {},
   "source": [
    "##### Interview Question"
   ]
  },
  {
   "cell_type": "markdown",
   "id": "a30d780a",
   "metadata": {},
   "source": [
    "Can class have a method without taking self as argument?"
   ]
  },
  {
   "cell_type": "markdown",
   "id": "a9746b0d",
   "metadata": {},
   "source": [
    "Answer is Yes, it can using @staticmethod"
   ]
  },
  {
   "cell_type": "markdown",
   "id": "5d50d6a4",
   "metadata": {},
   "source": [
    "### Instance variables vs Class variables"
   ]
  },
  {
   "cell_type": "markdown",
   "id": "9a6e2943",
   "metadata": {},
   "source": [
    "In Python, instance variables and class variables are used to store data within a class, but they differ in how they are accessed and used.\n",
    "\n",
    "Instance variables are unique to each instance of a class, meaning that each object created from the class has its own copy of the instance variable. They are defined inside the constructor method, __init__, using the self keyword.\n",
    "\n",
    "Here's an example:"
   ]
  },
  {
   "cell_type": "code",
   "execution_count": 50,
   "id": "524b8c89",
   "metadata": {},
   "outputs": [],
   "source": [
    "class Car:\n",
    "    def __init__(self,make,model,year):\n",
    "        self.make = make\n",
    "        self.model = model\n",
    "        self.year = year"
   ]
  },
  {
   "cell_type": "markdown",
   "id": "12f817c4",
   "metadata": {},
   "source": [
    "In this example, make, model, and year are instance variables because they are unique to each instance of the Car class. Each car object created from the Car class will have its own make, model, and year attributes.\n",
    "\n",
    "On the other hand, class variables are shared among all instances of a class. They are defined at the class level, outside of any method, and accessed using the class name itself.\n",
    "\n",
    "Here's an example:"
   ]
  },
  {
   "cell_type": "code",
   "execution_count": 51,
   "id": "1e07d2fc",
   "metadata": {},
   "outputs": [],
   "source": [
    "class Car:\n",
    "    wheels = 4\n",
    "    \n",
    "    def __init__(self,make,model,year):\n",
    "        self.make = make\n",
    "        self.model = model\n",
    "        self.year = year"
   ]
  },
  {
   "cell_type": "markdown",
   "id": "d5f77d3a",
   "metadata": {},
   "source": [
    "In this example, wheels is a class variable because it is defined at the class level and is shared among all instances of the Car class. It is accessed using the class name, Car.wheels.\n",
    "\n",
    "You can modify class variables using the class name, like this:"
   ]
  },
  {
   "cell_type": "code",
   "execution_count": 52,
   "id": "11db5f46",
   "metadata": {},
   "outputs": [],
   "source": [
    "Car.wheels = 6"
   ]
  },
  {
   "cell_type": "markdown",
   "id": "d802ec3b",
   "metadata": {},
   "source": [
    "This will change the value of the wheels class variable for all instances of the Car class.\n",
    "\n",
    "In summary, instance variables are unique to each instance of a class, while class variables are shared among all instances of a class. Instance variables are defined using the self keyword inside the constructor method, while class variables are defined at the class level and accessed using the class name."
   ]
  },
  {
   "cell_type": "markdown",
   "id": "0635e2bc",
   "metadata": {},
   "source": [
    "### Class Method"
   ]
  },
  {
   "cell_type": "markdown",
   "id": "b3cef60f",
   "metadata": {},
   "source": [
    "Class methods are methods that are bound to the class and not the instance of the class. They are defined using the @classmethod decorator.\n",
    "\n",
    "Class methods have access to the class itself, but not to any instance-specific data. They are commonly used to create alternative constructors for a class.\n",
    "\n",
    "Here's an example:"
   ]
  },
  {
   "cell_type": "code",
   "execution_count": 53,
   "id": "588842e4",
   "metadata": {},
   "outputs": [],
   "source": [
    "class Car:\n",
    "    wheels = 4\n",
    "    \n",
    "    def __init__(self,make,model,year):\n",
    "        self.make = make\n",
    "        self.model = model\n",
    "        self.year = year\n",
    "        \n",
    "    @classmethod\n",
    "    def from_string(cls,car_string):\n",
    "        make,model,year = car_string.split(',')\n",
    "        return cls(make,model,year)\n",
    "    # here in this example, class method is used as alternative constructor"
   ]
  },
  {
   "cell_type": "markdown",
   "id": "62bfc07b",
   "metadata": {},
   "source": [
    "In this example, from_string() is a class method because it is decorated with @classmethod. It takes a string as an argument, splits it into make, model, and year, and returns a new Car instance using those values.\n",
    "\n",
    "You can call a class method using the class name, like this:"
   ]
  },
  {
   "cell_type": "code",
   "execution_count": 54,
   "id": "ed845e5c",
   "metadata": {},
   "outputs": [
    {
     "name": "stdout",
     "output_type": "stream",
     "text": [
      "Tata Nexon 2023\n"
     ]
    }
   ],
   "source": [
    "car_string = \"Tata,Nexon,2023\"\n",
    "car = Car.from_string(car_string)\n",
    "print(car.make,car.model,car.year)"
   ]
  },
  {
   "cell_type": "markdown",
   "id": "9e86e98a",
   "metadata": {},
   "source": [
    "In this example, we call the from_string() method on the Car class, and it returns a new Car instance with the make, model, and year attributes set according to the input string.\n",
    "\n",
    "One benefit of using class methods is that they can be used to create alternative constructors for a class, which can make it easier to create instances of the class in certain situations. For example, in this case, the from_string() class method allows \n",
    "us to create a Car instance from a string without having to manually split the string and create a new instance.\n",
    "\n",
    "In summary, class methods are methods that are bound to the class and not the instance of the class. They are defined using the @classmethod decorator and have access to the class itself, but not to any instance-specific data. Class methods are commonly used to create alternative constructors for a class."
   ]
  },
  {
   "cell_type": "markdown",
   "id": "e3efb3a7",
   "metadata": {},
   "source": [
    "* Class method as Alternative Constructor matlab"
   ]
  },
  {
   "cell_type": "markdown",
   "id": "9abe4d0c",
   "metadata": {},
   "source": [
    "When we create a class, we usually define a constructor method __init__() that is called when we create an instance of the class using the class name. However, sometimes we may want to create instances of the class in a different way, perhaps using different parameters or calculations.\n",
    "\n",
    "This is where class methods can be useful. By defining a class method that creates instances of the class using different parameters or calculations, we can provide an alternative way of constructing instances of the class."
   ]
  },
  {
   "cell_type": "markdown",
   "id": "9b814a4f",
   "metadata": {},
   "source": [
    "### Commonly used Methods (dir, __ dict__, help)"
   ]
  },
  {
   "cell_type": "markdown",
   "id": "610ab207",
   "metadata": {},
   "source": [
    "1. dir() : dir() is a built-in Python function that returns a list of all attributes and methods of an object. It can be used to inspect the contents of a module, class, or instance.\n",
    "For example, let's say we have a class called Person:"
   ]
  },
  {
   "cell_type": "code",
   "execution_count": 55,
   "id": "82699112",
   "metadata": {},
   "outputs": [],
   "source": [
    "class Person:\n",
    "    def __init__(self,name,age):\n",
    "        self.name = name\n",
    "        self.age = age\n",
    "        \n",
    "    def say_hello(self):\n",
    "        print(f\"Hello, my name is {self.name} and i'm {self.age} years old!\")"
   ]
  },
  {
   "cell_type": "markdown",
   "id": "1db68357",
   "metadata": {},
   "source": [
    "We can use the dir() function to see all the attributes and methods of this class:\n",
    "This'll show us all the attributes and methods of the Person class, including the special methods such as __ init__() and __ str__()."
   ]
  },
  {
   "cell_type": "code",
   "execution_count": 56,
   "id": "89bf2ff2",
   "metadata": {},
   "outputs": [
    {
     "name": "stdout",
     "output_type": "stream",
     "text": [
      "['__class__', '__delattr__', '__dict__', '__dir__', '__doc__', '__eq__', '__format__', '__ge__', '__getattribute__', '__gt__', '__hash__', '__init__', '__init_subclass__', '__le__', '__lt__', '__module__', '__ne__', '__new__', '__reduce__', '__reduce_ex__', '__repr__', '__setattr__', '__sizeof__', '__str__', '__subclasshook__', '__weakref__', 'say_hello']\n"
     ]
    }
   ],
   "source": [
    "print(dir(Person))"
   ]
  },
  {
   "cell_type": "markdown",
   "id": "deacd783",
   "metadata": {},
   "source": [
    "2. __ dict__: __ dict__ is a special attribute of an object that returns a dictionary containing all the instance variables of the object. It can be used to inspect the contents of an instance of a class.\n",
    "For example, let's say we have an instance of the Person class:\n",
    "Then we can use the __ dict__ attribute to see all the instance variables of this object:"
   ]
  },
  {
   "cell_type": "code",
   "execution_count": 57,
   "id": "ac86397f",
   "metadata": {},
   "outputs": [
    {
     "name": "stdout",
     "output_type": "stream",
     "text": [
      "{'name': 'Alice', 'age': 30}\n"
     ]
    }
   ],
   "source": [
    "person = Person(\"Alice\",30)\n",
    "print(person.__dict__) #This shows us that person has two instance variables, name and age"
   ]
  },
  {
   "cell_type": "markdown",
   "id": "d1102388",
   "metadata": {},
   "source": [
    "3. help(): help() is a built-in Python function that provides documentation for a given Python object. It can be used to get more information about a module, class, function, or method.\n",
    "For example, let's say we want to get more information about the range() function:\n",
    "This will open up the Python help system and display information about the tuple() function.\n",
    "\n",
    "Overall, dir(), __ dict__, and help() are very useful tools for inspecting and understanding Python objects and their attributes and methods."
   ]
  },
  {
   "cell_type": "code",
   "execution_count": 58,
   "id": "441eb450",
   "metadata": {},
   "outputs": [
    {
     "name": "stdout",
     "output_type": "stream",
     "text": [
      "Help on class tuple in module builtins:\n",
      "\n",
      "class tuple(object)\n",
      " |  tuple(iterable=(), /)\n",
      " |  \n",
      " |  Built-in immutable sequence.\n",
      " |  \n",
      " |  If no argument is given, the constructor returns an empty tuple.\n",
      " |  If iterable is specified the tuple is initialized from iterable's items.\n",
      " |  \n",
      " |  If the argument is a tuple, the return value is the same object.\n",
      " |  \n",
      " |  Built-in subclasses:\n",
      " |      asyncgen_hooks\n",
      " |      UnraisableHookArgs\n",
      " |  \n",
      " |  Methods defined here:\n",
      " |  \n",
      " |  __add__(self, value, /)\n",
      " |      Return self+value.\n",
      " |  \n",
      " |  __contains__(self, key, /)\n",
      " |      Return key in self.\n",
      " |  \n",
      " |  __eq__(self, value, /)\n",
      " |      Return self==value.\n",
      " |  \n",
      " |  __ge__(self, value, /)\n",
      " |      Return self>=value.\n",
      " |  \n",
      " |  __getattribute__(self, name, /)\n",
      " |      Return getattr(self, name).\n",
      " |  \n",
      " |  __getitem__(self, key, /)\n",
      " |      Return self[key].\n",
      " |  \n",
      " |  __getnewargs__(self, /)\n",
      " |  \n",
      " |  __gt__(self, value, /)\n",
      " |      Return self>value.\n",
      " |  \n",
      " |  __hash__(self, /)\n",
      " |      Return hash(self).\n",
      " |  \n",
      " |  __iter__(self, /)\n",
      " |      Implement iter(self).\n",
      " |  \n",
      " |  __le__(self, value, /)\n",
      " |      Return self<=value.\n",
      " |  \n",
      " |  __len__(self, /)\n",
      " |      Return len(self).\n",
      " |  \n",
      " |  __lt__(self, value, /)\n",
      " |      Return self<value.\n",
      " |  \n",
      " |  __mul__(self, value, /)\n",
      " |      Return self*value.\n",
      " |  \n",
      " |  __ne__(self, value, /)\n",
      " |      Return self!=value.\n",
      " |  \n",
      " |  __repr__(self, /)\n",
      " |      Return repr(self).\n",
      " |  \n",
      " |  __rmul__(self, value, /)\n",
      " |      Return value*self.\n",
      " |  \n",
      " |  count(self, value, /)\n",
      " |      Return number of occurrences of value.\n",
      " |  \n",
      " |  index(self, value, start=0, stop=9223372036854775807, /)\n",
      " |      Return first index of value.\n",
      " |      \n",
      " |      Raises ValueError if the value is not present.\n",
      " |  \n",
      " |  ----------------------------------------------------------------------\n",
      " |  Class methods defined here:\n",
      " |  \n",
      " |  __class_getitem__(...) from builtins.type\n",
      " |      See PEP 585\n",
      " |  \n",
      " |  ----------------------------------------------------------------------\n",
      " |  Static methods defined here:\n",
      " |  \n",
      " |  __new__(*args, **kwargs) from builtins.type\n",
      " |      Create and return a new object.  See help(type) for accurate signature.\n",
      "\n"
     ]
    }
   ],
   "source": [
    "help(tuple)"
   ]
  },
  {
   "cell_type": "markdown",
   "id": "3fa999c9",
   "metadata": {},
   "source": [
    "### Super Keyword (Inheritence)"
   ]
  },
  {
   "cell_type": "markdown",
   "id": "2158ebba",
   "metadata": {},
   "source": [
    "super() is a built-in function in Python that allows you to call a method from a parent class. It's often used in inheritance when you want to override a method in a child class but still want to call the original method from the parent class.\n",
    "\n",
    "Here's an example to illustrate how super() works:"
   ]
  },
  {
   "cell_type": "code",
   "execution_count": 59,
   "id": "928024c9",
   "metadata": {},
   "outputs": [
    {
     "name": "stdout",
     "output_type": "stream",
     "text": [
      "The animal make a sound.\n",
      "The dog barks.\n"
     ]
    }
   ],
   "source": [
    "class Animal:\n",
    "    def make_sound(self):\n",
    "        print(\"The animal make a sound.\")\n",
    "        \n",
    "class Dog(Animal):\n",
    "    def make_sound(self):\n",
    "        super().make_sound()\n",
    "        print(\"The dog barks.\")\n",
    "\n",
    "dog = Dog()\n",
    "dog.make_sound()"
   ]
  },
  {
   "cell_type": "markdown",
   "id": "cdefb4d1",
   "metadata": {},
   "source": [
    "In this example, we have two classes: Animal and Dog. Dog is a subclass of Animal, so it inherits all the methods from Animal. However, Dog overrides the make_sound() method to add the line \"The dog barks.\"\n",
    "\n",
    "When we create an instance of Dog and call the make_sound() method, it first calls the make_sound() method from the Animal class using super().make_sound(), and then it adds the line \"The dog barks.\" This allows us to override a method in the child class while still using the original method from the parent class."
   ]
  },
  {
   "cell_type": "markdown",
   "id": "ba9d1a22",
   "metadata": {},
   "source": [
    "### Magic/Dunder Methods"
   ]
  },
  {
   "cell_type": "markdown",
   "id": "b61a51a7",
   "metadata": {},
   "source": [
    "Magic methods (also known as dunder methods) are special methods in Python that have double underscores (__) at the beginning and end of their names. They provide a way to define how objects of a class behave in certain situations, such as how they are initialized, compared, or converted to strings.\n",
    "\n",
    "Here are some examples of magic methods in Python:\n",
    "\n",
    "1. __ init__: This method is called when an object is created from a class and is used to initialize the object's attributes."
   ]
  },
  {
   "cell_type": "code",
   "execution_count": 60,
   "id": "89336031",
   "metadata": {},
   "outputs": [],
   "source": [
    "class Car:\n",
    "    def __init__(self,make,model,year):\n",
    "        self.make = make\n",
    "        self.model = model\n",
    "        self.year = year\n",
    "        \n",
    "car = Car(\"Tata\",\"Nexon\",\"2023\")"
   ]
  },
  {
   "cell_type": "markdown",
   "id": "7f3c0e22",
   "metadata": {},
   "source": [
    "In this example, the __ init__ method is used to initialize the attributes make, model, and year of the Car class."
   ]
  },
  {
   "cell_type": "markdown",
   "id": "dc72642f",
   "metadata": {},
   "source": [
    "2. __ str__: This method is called when an object is converted to a string and is used to provide a human-readable representation of the object."
   ]
  },
  {
   "cell_type": "code",
   "execution_count": 61,
   "id": "5d5332da",
   "metadata": {},
   "outputs": [
    {
     "name": "stdout",
     "output_type": "stream",
     "text": [
      "Tata Nexon (2022)\n"
     ]
    }
   ],
   "source": [
    "class Car:\n",
    "    def __init__(self, make, model, year):\n",
    "        self.make = make\n",
    "        self.model = model\n",
    "        self.year = year\n",
    "        \n",
    "    def __str__(self):\n",
    "        return f\"{self.make} {self.model} ({self.year})\"\n",
    "\n",
    "car = Car(\"Tata\",\"Nexon\",\"2022\")\n",
    "print(car)"
   ]
  },
  {
   "cell_type": "markdown",
   "id": "5a88fec2",
   "metadata": {},
   "source": [
    "In this example, we define the __ str__ method to return a string representation of the car object in the format \"make model (year)\"."
   ]
  },
  {
   "cell_type": "markdown",
   "id": "e60a8e1f",
   "metadata": {},
   "source": [
    "3. __ eq__: This method is called when two objects are compared using the == operator and is used to determine if the objects are equal."
   ]
  },
  {
   "cell_type": "code",
   "execution_count": 62,
   "id": "234bb956",
   "metadata": {},
   "outputs": [
    {
     "name": "stdout",
     "output_type": "stream",
     "text": [
      "True\n"
     ]
    }
   ],
   "source": [
    "class Car:\n",
    "    def __init__(self, make, model, year):\n",
    "        self.make = make\n",
    "        self.model = model\n",
    "        self.year = year\n",
    "        \n",
    "    def __eq__(self,other):\n",
    "        return self.make == other.make and self.model == other.model and self.year == other.year\n",
    "    \n",
    "car1 = Car(\"Toyota\", \"Camry\", 2022)\n",
    "car2 = Car(\"Toyota\", \"Camry\", 2022)\n",
    "print(car1 == car2)"
   ]
  },
  {
   "cell_type": "markdown",
   "id": "9ee72ca7",
   "metadata": {},
   "source": [
    "In this example, we define the __ eq__ method to compare two car objects by checking if their make, model, and year attributes are equal.\n",
    "\n",
    "Overall, magic methods provide a powerful way to customize the behavior of objects in Python and are an important tool for advanced object-oriented programming."
   ]
  },
  {
   "cell_type": "markdown",
   "id": "350d1d1b",
   "metadata": {},
   "source": [
    "### Method Overriding"
   ]
  },
  {
   "cell_type": "markdown",
   "id": "92bcddf2",
   "metadata": {},
   "source": [
    "Method overriding is a concept in object-oriented programming where a subclass provides a different implementation of a method that is already defined in its parent class. This allows the subclass to customize the behavior of the inherited method.\n",
    "\n",
    "Here's an example of method overriding in Python:"
   ]
  },
  {
   "cell_type": "code",
   "execution_count": 2,
   "id": "8b669a94",
   "metadata": {},
   "outputs": [
    {
     "name": "stdout",
     "output_type": "stream",
     "text": [
      "The animal makes a sound\n",
      "The dog barks\n",
      "The cat meows\n"
     ]
    }
   ],
   "source": [
    "class Animal:\n",
    "    def make_sound(self):\n",
    "        print(\"The animal makes a sound\")\n",
    "        \n",
    "class Dog(Animal):\n",
    "    def make_sound(self):\n",
    "        print(\"The dog barks\")\n",
    "        \n",
    "class Cat(Animal):\n",
    "    def make_sound(self):\n",
    "        print(\"The cat meows\")\n",
    "        \n",
    "animal = Animal()\n",
    "dog = Dog()\n",
    "cat = Cat()\n",
    "\n",
    "animal.make_sound()\n",
    "dog.make_sound()\n",
    "cat.make_sound()"
   ]
  },
  {
   "cell_type": "markdown",
   "id": "61521e56",
   "metadata": {},
   "source": [
    "In this example, we have a parent class Animal and two subclasses Dog and Cat. The Animal class defines a method called make_sound, which is overridden in both the Dog and Cat classes.\n",
    "\n",
    "When we create an object of the Animal class and call its make_sound method, it prints \"The animal makes a sound\". However, when we create objects of the Dog and Cat classes and call their make_sound methods, they print \"The dog barks\" and \"The cat meows\" respectively.\n",
    "\n",
    "This is because the Dog and Cat classes have overridden the make_sound method from their parent class Animal with their own implementation.\n",
    "\n",
    "Method overriding is a useful technique in object-oriented programming as it allows subclasses to customize the behavior of inherited methods to better suit their specific needs."
   ]
  },
  {
   "cell_type": "markdown",
   "id": "6e807caf",
   "metadata": {},
   "source": [
    "### Operator Overloading"
   ]
  },
  {
   "cell_type": "markdown",
   "id": "a92a77bc",
   "metadata": {},
   "source": [
    "Operator overloading is a feature in Python that allows operators such as +, -, *, /, and others to be used with user-defined classes. This allows programmers to define their own behavior for these operators when they are used with instances of their own classes.\n",
    "\n",
    "Here's an example of operator overloading in Python:"
   ]
  },
  {
   "cell_type": "code",
   "execution_count": 5,
   "id": "f4c48ca7",
   "metadata": {},
   "outputs": [
    {
     "name": "stdout",
     "output_type": "stream",
     "text": [
      "(6, 8)\n",
      "(-2, -2)\n"
     ]
    }
   ],
   "source": [
    "class Point:\n",
    "    def __init__(self,x,y):\n",
    "        self.x = x\n",
    "        self.y = y\n",
    "        \n",
    "    def __add__(self, other):\n",
    "        return Point(self.x + other.x, self.y + other.y)\n",
    "    \n",
    "    def __sub__(self,other):\n",
    "        return Point(self.x - other.x, self.y - other.y)\n",
    "    \n",
    "    def __str__(self):\n",
    "        return f\"({self.x}, {self.y})\"\n",
    "    \n",
    "p1 = Point(2,3)\n",
    "p2 = Point(4,5)\n",
    "\n",
    "print(p1 + p2)\n",
    "print(p1 - p2)"
   ]
  },
  {
   "cell_type": "markdown",
   "id": "5429bee9",
   "metadata": {},
   "source": [
    "In this example, we have defined a class called Point that represents a point in 2D space with an x and y coordinate. We have overloaded the + and - operators by defining the __ add__ and __ sub__ methods respectively.\n",
    "\n",
    "The __ add__ method takes another Point object as an argument and returns a new Point object with the x and y coordinates of the two Point objects added together.\n",
    "\n",
    "Similarly, the __ sub__ method takes another Point object as an argument and returns a new Point object with the x and y coordinates of the two Point objects subtracted.\n",
    "\n",
    "We have also defined a __ str__ method to convert a Point object to a string for printing.\n",
    "\n",
    "When we create two Point objects p1 and p2, we can use the + and - operators to add and subtract them as if they were numbers. This is possible because we have overloaded these operators with our own implementation.\n",
    "\n",
    "Operator overloading can be a powerful tool in Python as it allows programmers to define their own behavior for built-in operators with user-defined classes, making their code more flexible and expressive."
   ]
  },
  {
   "cell_type": "markdown",
   "id": "306da780",
   "metadata": {},
   "source": [
    "### Generators (including Iterable and yield keyword)"
   ]
  },
  {
   "cell_type": "markdown",
   "id": "b18163f3",
   "metadata": {},
   "source": [
    "Generators in Python are a type of iterable that allow us to iterate over a sequence of values without actually creating the entire sequence in memory. Instead, the values are generated on-the-fly as we iterate over them, which can be useful when dealing with large amounts of data.\n",
    "\n",
    "Generators are defined using a function that contains the yield keyword, which specifies the values to be generated. Here's an example:"
   ]
  },
  {
   "cell_type": "code",
   "execution_count": 13,
   "id": "b823a2de",
   "metadata": {},
   "outputs": [],
   "source": [
    "def count_up_to(n):\n",
    "    i = 1\n",
    "    while i<=n:\n",
    "        yield i\n",
    "        i +=1"
   ]
  },
  {
   "cell_type": "markdown",
   "id": "c0a60487",
   "metadata": {},
   "source": [
    "In this example, the count_up_to function defines a generator that will yield values from 1 up to the input parameter n. The yield keyword specifies the values to be generated, and the function continues to execute from where it left off each time a new value is requested.\n",
    "\n",
    "We can use the generator by calling it in a for loop, like this:"
   ]
  },
  {
   "cell_type": "code",
   "execution_count": 8,
   "id": "2986aea2",
   "metadata": {},
   "outputs": [
    {
     "name": "stdout",
     "output_type": "stream",
     "text": [
      "1\n",
      "2\n",
      "3\n",
      "4\n",
      "5\n"
     ]
    }
   ],
   "source": [
    "for num in count_up_to(5):\n",
    "    print(num)"
   ]
  },
  {
   "cell_type": "markdown",
   "id": "54887ade",
   "metadata": {},
   "source": [
    "Notice that we didn't have to create a list of numbers from 1 to 5 in memory before iterating over them. Instead, the generator function count_up_to generates each number on-the-fly as it is requested."
   ]
  },
  {
   "cell_type": "markdown",
   "id": "13cde188",
   "metadata": {},
   "source": [
    "##### Benefits of Generators "
   ]
  },
  {
   "cell_type": "markdown",
   "id": "b95ae2c6",
   "metadata": {},
   "source": [
    "Generators offer several benefits over other types of sequences, such as lists, tuples, and sets. One of the main benefits of generators is that they allow you to generate the values on-the-fly, rather than having to create and store the entire sequence in memory. This makes generators a powerful tool for working with large or complex data sets, as you can generate the values as you need them, rather than having to store them all in memory at once.\n",
    "\n",
    "Another benefit of generators is that they are lazy, which means that the values are generated only when they are requested. This allows you to generate the values in a more efficient and memory-friendly manner, as you don't have to generate all the values up front.\n",
    "\n",
    "Conclusion:\n",
    "Generators in Python are a powerful tool for working with large or complex data sets, allowing you to generate the values on-the-fly and store only what you need in memory. Whether you are working with a large dataset, performing complex calculations, or generating a sequence of values, generators are a must-have tool in your programming toolkit. So, if you haven't already, be sure to check out generators in Python and see how they can help you write better, more efficient code."
   ]
  },
  {
   "cell_type": "markdown",
   "id": "ecac1081",
   "metadata": {},
   "source": [
    "### Function Caching (Memoization)"
   ]
  },
  {
   "cell_type": "markdown",
   "id": "7ad9b510",
   "metadata": {},
   "source": [
    "Function caching is a technique used to speed up the execution time of functions by caching their results for future use. This is particularly useful when a function takes a long time to execute or when it is called frequently with the same inputs.\n",
    "\n",
    "Python provides a built-in caching mechanism through the functools module, which includes the lru_cache decorator. Here's an example:"
   ]
  },
  {
   "cell_type": "code",
   "execution_count": 2,
   "id": "46a2669a",
   "metadata": {},
   "outputs": [],
   "source": [
    "from functools import lru_cache\n",
    "\n",
    "@lru_cache(maxsize=None)\n",
    "def fibonacci(n):\n",
    "    if n<2:\n",
    "        return n\n",
    "    return fibonacci(n-1) + fibonacci(n-2)"
   ]
  },
  {
   "cell_type": "markdown",
   "id": "e042704b",
   "metadata": {},
   "source": [
    "In this example, the fibonacci function uses the @lru_cache decorator to cache the results of previous function calls. The maxsize parameter specifies the maximum number of function calls to cache. If maxsize is set to None, all results will be cached.\n",
    "\n",
    "We can use the fibonacci function to calculate Fibonacci numbers:"
   ]
  },
  {
   "cell_type": "code",
   "execution_count": 3,
   "id": "b93c4559",
   "metadata": {},
   "outputs": [
    {
     "name": "stdout",
     "output_type": "stream",
     "text": [
      "55\n",
      "610\n",
      "55\n"
     ]
    }
   ],
   "source": [
    "print(fibonacci(10))\n",
    "print(fibonacci(15))\n",
    "print(fibonacci(10))"
   ]
  },
  {
   "cell_type": "markdown",
   "id": "3d2f8b6f",
   "metadata": {},
   "source": [
    "The first time we call fibonacci(10), the function will execute and the result will be cached. The second time we call fibonacci(10), the cached result will be returned immediately without having to execute the function again.\n",
    "\n",
    "Notice that the third call to fibonacci(10) returns immediately because the result is already cached.\n",
    "\n",
    "Function caching can be a powerful optimization technique for functions that are computationally expensive or that are called frequently with the same inputs. It can significantly reduce execution time and improve overall performance."
   ]
  },
  {
   "cell_type": "markdown",
   "id": "fc7fdea7",
   "metadata": {},
   "source": [
    "### Multithreading and Multiprocessing"
   ]
  },
  {
   "cell_type": "markdown",
   "id": "6257b954",
   "metadata": {},
   "source": [
    "Multithreading and Multiprocessing are two ways in which Python can perform tasks concurrently, allowing programs to run faster and more efficiently.\n",
    "\n",
    "Multithreading involves running multiple threads (or \"workers\") within a single process. Each thread operates independently, allowing for multiple tasks to be performed simultaneously. However, since threads share the same memory space, they must be carefully managed to avoid race conditions and other issues.\n",
    "\n",
    "Here is an example of multithreading in Python:"
   ]
  },
  {
   "cell_type": "code",
   "execution_count": 6,
   "id": "e877051f",
   "metadata": {},
   "outputs": [
    {
     "name": "stdout",
     "output_type": "stream",
     "text": [
      "Worker 0 starting\n",
      "Worker 0 exiting\n",
      "Worker 1 starting\n",
      "Worker 1 exiting\n",
      "Worker 2 starting\n",
      "Worker 2 exiting\n",
      "Worker 3 starting\n",
      "Worker 3 exiting\n",
      "Worker 4 starting\n",
      "Worker 4 exiting\n",
      "All threads done\n"
     ]
    }
   ],
   "source": [
    "import threading\n",
    "\n",
    "def worker(num):\n",
    "    \"\"\"Thread worker function\"\"\"\n",
    "    print(f\"Worker {num} starting\")\n",
    "    # do some work\n",
    "    print(f\"Worker {num} exiting\")\n",
    "\n",
    "threads = []\n",
    "for i in range(5):\n",
    "    t = threading.Thread(target=worker, args=(i,))\n",
    "    threads.append(t)\n",
    "    t.start()\n",
    "\n",
    "# Wait for all threads to complete\n",
    "for t in threads:\n",
    "    t.join()\n",
    "\n",
    "print(\"All threads done\")"
   ]
  },
  {
   "cell_type": "markdown",
   "id": "e98b043d",
   "metadata": {},
   "source": [
    "This code creates five threads, each running the worker function with a different argument. "
   ]
  },
  {
   "cell_type": "markdown",
   "id": "f13e2e02",
   "metadata": {},
   "source": [
    "Multiprocessing, on the other hand, involves running multiple processes in parallel. Each process has its own memory space, so they can run completely independently. This makes multiprocessing more suitable for CPU-bound tasks that require a lot of processing power.\n",
    "\n",
    "Here is an example of multiprocessing in Python:"
   ]
  },
  {
   "cell_type": "code",
   "execution_count": 8,
   "id": "0ed6fca3",
   "metadata": {},
   "outputs": [
    {
     "name": "stdout",
     "output_type": "stream",
     "text": [
      "All processes done\n"
     ]
    }
   ],
   "source": [
    "import multiprocessing\n",
    "\n",
    "def worker(num):\n",
    "    \"\"\"Process worker function\"\"\"\n",
    "    print(f\"Worker {num} starting\")\n",
    "    # do some work\n",
    "    print(f\"Worker {num} exiting\")\n",
    "\n",
    "processes = []\n",
    "for i in range(5):\n",
    "    p = multiprocessing.Process(target=worker, args=(i,))\n",
    "    processes.append(p)\n",
    "    p.start()\n",
    "\n",
    "# Wait for all processes to complete\n",
    "for p in processes:\n",
    "    p.join()\n",
    "\n",
    "print(\"All processes done\")"
   ]
  },
  {
   "cell_type": "markdown",
   "id": "5feebd1a",
   "metadata": {},
   "source": [
    "This code creates five processes, each running the worker function with a different argument. The output shows that the workers are started and run in parallel."
   ]
  },
  {
   "cell_type": "markdown",
   "id": "a252620a",
   "metadata": {},
   "source": [
    "### Name Mingling"
   ]
  },
  {
   "cell_type": "markdown",
   "id": "46fc5f0e",
   "metadata": {},
   "source": [
    "In Python, name mingling typically refers to a technique used to avoid naming conflicts when defining instance variables in a class. It involves adding a double underscore (__) as a prefix to the variable name.\n",
    "\n",
    "For example:"
   ]
  },
  {
   "cell_type": "code",
   "execution_count": 1,
   "id": "f6ac3018",
   "metadata": {},
   "outputs": [
    {
     "name": "stdout",
     "output_type": "stream",
     "text": [
      "42\n"
     ]
    }
   ],
   "source": [
    "class MyClass:\n",
    "    def __init__(self):\n",
    "        self.__private_var = 42\n",
    "\n",
    "    def get_private_var(self):\n",
    "        return self.__private_var\n",
    "\n",
    "obj = MyClass()\n",
    "print(obj.get_private_var())  # Output: 42\n"
   ]
  },
  {
   "cell_type": "markdown",
   "id": "232b99be",
   "metadata": {},
   "source": [
    "In this example, __private_var is a name-mingled instance variable. The double underscores make the variable name \"private\" within the class, meaning it is not directly accessible from outside the class. However, it is still accessible through methods defined within the class, like get_private_var(). This technique helps in avoiding accidental variable name conflicts with variables defined in subclasses or other parts of the program."
   ]
  },
  {
   "cell_type": "code",
   "execution_count": null,
   "id": "ba395f5a",
   "metadata": {},
   "outputs": [],
   "source": []
  }
 ],
 "metadata": {
  "kernelspec": {
   "display_name": "Python 3 (ipykernel)",
   "language": "python",
   "name": "python3"
  },
  "language_info": {
   "codemirror_mode": {
    "name": "ipython",
    "version": 3
   },
   "file_extension": ".py",
   "mimetype": "text/x-python",
   "name": "python",
   "nbconvert_exporter": "python",
   "pygments_lexer": "ipython3",
   "version": "3.10.5"
  }
 },
 "nbformat": 4,
 "nbformat_minor": 5
}

{
 "cells": [
  {
   "cell_type": "code",
   "execution_count": 1,
   "id": "5f15d2c9",
   "metadata": {},
   "outputs": [],
   "source": [
    "import numpy as np\n",
    "from sklearn.model_selection import train_test_split"
   ]
  },
  {
   "cell_type": "code",
   "execution_count": 2,
   "id": "63cf5b66",
   "metadata": {},
   "outputs": [
    {
     "data": {
      "text/plain": [
       "array([  1,   2,   3,   4,   5,   6,   7,   8,   9,  10,  11,  12,  13,\n",
       "        14,  15,  16,  17,  18,  19,  20,  21,  22,  23,  24,  25,  26,\n",
       "        27,  28,  29,  30,  31,  32,  33,  34,  35,  36,  37,  38,  39,\n",
       "        40,  41,  42,  43,  44,  45,  46,  47,  48,  49,  50,  51,  52,\n",
       "        53,  54,  55,  56,  57,  58,  59,  60,  61,  62,  63,  64,  65,\n",
       "        66,  67,  68,  69,  70,  71,  72,  73,  74,  75,  76,  77,  78,\n",
       "        79,  80,  81,  82,  83,  84,  85,  86,  87,  88,  89,  90,  91,\n",
       "        92,  93,  94,  95,  96,  97,  98,  99, 100])"
      ]
     },
     "execution_count": 2,
     "metadata": {},
     "output_type": "execute_result"
    }
   ],
   "source": [
    "a = np.arange(1,101)\n",
    "a"
   ]
  },
  {
   "cell_type": "code",
   "execution_count": 4,
   "id": "bd6e3b33",
   "metadata": {},
   "outputs": [
    {
     "data": {
      "text/plain": [
       "array([501, 502, 503, 504, 505, 506, 507, 508, 509, 510, 511, 512, 513,\n",
       "       514, 515, 516, 517, 518, 519, 520, 521, 522, 523, 524, 525, 526,\n",
       "       527, 528, 529, 530, 531, 532, 533, 534, 535, 536, 537, 538, 539,\n",
       "       540, 541, 542, 543, 544, 545, 546, 547, 548, 549, 550, 551, 552,\n",
       "       553, 554, 555, 556, 557, 558, 559, 560, 561, 562, 563, 564, 565,\n",
       "       566, 567, 568, 569, 570, 571, 572, 573, 574, 575, 576, 577, 578,\n",
       "       579, 580, 581, 582, 583, 584, 585, 586, 587, 588, 589, 590, 591,\n",
       "       592, 593, 594, 595, 596, 597, 598, 599, 600])"
      ]
     },
     "execution_count": 4,
     "metadata": {},
     "output_type": "execute_result"
    }
   ],
   "source": [
    "b = np.arange(501,601)\n",
    "b"
   ]
  },
  {
   "cell_type": "code",
   "execution_count": 5,
   "id": "68bb4a30",
   "metadata": {},
   "outputs": [
    {
     "data": {
      "text/plain": [
       "[array([  3,  76,  66,  97,  39,  45,  12,  81,  51,  41,  10,  87,  17,\n",
       "          7,   2,   8,  47,  74,  43,  23,  84, 100,  55,  19,  18,  95,\n",
       "         59,  83,  20,   9,  14,  94,  46,  77,  92,  21,  60,  58,  89,\n",
       "         69,  57,  25,  24,  49,  13,  53,  28,  42,   5,   4,  32,  29,\n",
       "         78,  44,  35,  98,  61,  26,  22,  15,  68,  93,  16,  71,  70,\n",
       "         31,  96,  88,  80,  90,  27,  56,  36,   1,  65]),\n",
       " array([99, 63, 79, 75, 86, 85, 34, 48, 30, 72, 50, 38, 62, 54, 11, 67, 91,\n",
       "        33, 73, 37, 64,  6, 52, 40, 82])]"
      ]
     },
     "execution_count": 5,
     "metadata": {},
     "output_type": "execute_result"
    }
   ],
   "source": [
    "train_test_split(a)"
   ]
  },
  {
   "cell_type": "code",
   "execution_count": 18,
   "id": "1d918d0b",
   "metadata": {},
   "outputs": [],
   "source": [
    "a_train, a_test,b_train,b_test = train_test_split(a,b,test_size=0.2,random_state=42)"
   ]
  },
  {
   "cell_type": "code",
   "execution_count": 19,
   "id": "4eadaf1d",
   "metadata": {},
   "outputs": [
    {
     "data": {
      "text/plain": [
       "((80,), (20,))"
      ]
     },
     "execution_count": 19,
     "metadata": {},
     "output_type": "execute_result"
    }
   ],
   "source": [
    "a_train.shape,a_test.shape"
   ]
  },
  {
   "cell_type": "code",
   "execution_count": 20,
   "id": "ad2f7bea",
   "metadata": {},
   "outputs": [
    {
     "data": {
      "text/plain": [
       "array([ 56,  89,  27,  43,  70,  16,  41,  97,  10,  73,  12,  48,  86,\n",
       "        29,  94,   6,  67,  66,  36,  17,  50,  35,   8,  96,  28,  20,\n",
       "        82,  26,  63,  14,  25,   4,  18,  39,   9,  79,   7,  65,  37,\n",
       "        90,  57, 100,  55,  44,  51,  68,  47,  69,  62,  98,  80,  42,\n",
       "        59,  49,  99,  58,  76,  33,  95,  60,  64,  85,  38,  30,   2,\n",
       "        53,  22,   3,  24,  88,  92,  75,  87,  83,  21,  61,  72,  15,\n",
       "        93,  52])"
      ]
     },
     "execution_count": 20,
     "metadata": {},
     "output_type": "execute_result"
    }
   ],
   "source": [
    "a_train"
   ]
  },
  {
   "cell_type": "code",
   "execution_count": 21,
   "id": "5fcf9cae",
   "metadata": {},
   "outputs": [
    {
     "data": {
      "text/plain": [
       "array([84, 54, 71, 46, 45, 40, 23, 81, 11,  1, 19, 31, 74, 34, 91,  5, 77,\n",
       "       78, 13, 32])"
      ]
     },
     "execution_count": 21,
     "metadata": {},
     "output_type": "execute_result"
    }
   ],
   "source": [
    "a_test"
   ]
  },
  {
   "cell_type": "code",
   "execution_count": 22,
   "id": "eb1397ed",
   "metadata": {},
   "outputs": [
    {
     "data": {
      "text/plain": [
       "((80,), (20,))"
      ]
     },
     "execution_count": 22,
     "metadata": {},
     "output_type": "execute_result"
    }
   ],
   "source": [
    "b_train.shape,b_test.shape"
   ]
  },
  {
   "cell_type": "code",
   "execution_count": 23,
   "id": "60732733",
   "metadata": {},
   "outputs": [
    {
     "data": {
      "text/plain": [
       "array([556, 589, 527, 543, 570, 516, 541, 597, 510, 573, 512, 548, 586,\n",
       "       529, 594, 506, 567, 566, 536, 517, 550, 535, 508, 596, 528, 520,\n",
       "       582, 526, 563, 514, 525, 504, 518, 539, 509, 579, 507, 565, 537,\n",
       "       590, 557, 600, 555, 544, 551, 568, 547, 569, 562, 598, 580, 542,\n",
       "       559, 549, 599, 558, 576, 533, 595, 560, 564, 585, 538, 530, 502,\n",
       "       553, 522, 503, 524, 588, 592, 575, 587, 583, 521, 561, 572, 515,\n",
       "       593, 552])"
      ]
     },
     "execution_count": 23,
     "metadata": {},
     "output_type": "execute_result"
    }
   ],
   "source": [
    "b_train"
   ]
  },
  {
   "cell_type": "code",
   "execution_count": 24,
   "id": "6c106810",
   "metadata": {},
   "outputs": [
    {
     "data": {
      "text/plain": [
       "array([584, 554, 571, 546, 545, 540, 523, 581, 511, 501, 519, 531, 574,\n",
       "       534, 591, 505, 577, 578, 513, 532])"
      ]
     },
     "execution_count": 24,
     "metadata": {},
     "output_type": "execute_result"
    }
   ],
   "source": [
    "b_test"
   ]
  },
  {
   "cell_type": "code",
   "execution_count": null,
   "id": "8487699e",
   "metadata": {},
   "outputs": [],
   "source": []
  }
 ],
 "metadata": {
  "kernelspec": {
   "display_name": "Python 3 (ipykernel)",
   "language": "python",
   "name": "python3"
  },
  "language_info": {
   "codemirror_mode": {
    "name": "ipython",
    "version": 3
   },
   "file_extension": ".py",
   "mimetype": "text/x-python",
   "name": "python",
   "nbconvert_exporter": "python",
   "pygments_lexer": "ipython3",
   "version": "3.10.5"
  }
 },
 "nbformat": 4,
 "nbformat_minor": 5
}

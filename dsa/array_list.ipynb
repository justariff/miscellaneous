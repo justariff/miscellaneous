{
 "cells": [
  {
   "cell_type": "code",
   "execution_count": 1,
   "id": "cfa3bab5",
   "metadata": {},
   "outputs": [],
   "source": [
    "import ctypes     # we're creating python list using c datatype naaki list ko hi"
   ]
  },
  {
   "cell_type": "code",
   "execution_count": 2,
   "id": "9bbd16c4",
   "metadata": {},
   "outputs": [],
   "source": [
    "class MeraList:\n",
    "\n",
    "  def __init__(self):\n",
    "    self.size = 1\n",
    "    self.n = 0\n",
    "    # create a C type ka array with size -> self.size\n",
    "    self.A = self.__make_array(self.size)\n",
    "\n",
    "  def __len__(self):\n",
    "    return self.n\n",
    "\n",
    "  def append(self,item):\n",
    "    # check if vacant\n",
    "    if self.n == self.size:\n",
    "      # array is full -> resize\n",
    "      self.__resize(self.size*2)\n",
    "\n",
    "    self.A[self.n] = item\n",
    "    self.n = self.n + 1\n",
    "\n",
    "  def pop(self):\n",
    "    if self.n == 0:\n",
    "      return 'Empty List'\n",
    "    print(self.A[self.n-1])\n",
    "    self.n = self.n - 1\n",
    "\n",
    "  def clear(self):\n",
    "    self.n = 0\n",
    "    self.size = 1\n",
    "\n",
    "  def find(self,item):\n",
    "\n",
    "    for i in range(self.n):\n",
    "      if self.A[i] == item:\n",
    "        return i\n",
    "    return 'ValueError - not in list'\n",
    "\n",
    "  def insert(self,pos,item):\n",
    "\n",
    "    if self.n == self.size:\n",
    "      self.__resize(self.size*2)\n",
    "\n",
    "    for i in range(self.n,pos,-1):\n",
    "      self.A[i] = self.A[i-1]\n",
    "\n",
    "    self.A[pos] = item\n",
    "    self.n = self.n + 1\n",
    "\n",
    "  def remove(self,item):\n",
    "    # search and get pos\n",
    "    pos = self.find(item)\n",
    "    if type(pos) == int:\n",
    "      # delete\n",
    "      self.__delitem__(pos)\n",
    "    else:\n",
    "      return pos\n",
    "\n",
    "  def __resize(self,new_capacity):\n",
    "    # create a new array with new capacity\n",
    "    B = self.__make_array(new_capacity)\n",
    "    self.size = new_capacity\n",
    "    # copy the content of old array to new one\n",
    "    for i in range(self.n):\n",
    "      B[i] = self.A[i]\n",
    "    # reassign A\n",
    "    self.A = B\n",
    "\n",
    "  def __str__(self):\n",
    "    result = ''\n",
    "    for i in range(self.n):\n",
    "      result = result + str(self.A[i]) + ','\n",
    "\n",
    "    return '[' + result[:-1] + ']'\n",
    "\n",
    "  def __getitem__(self,index):\n",
    "\n",
    "    if 0<= index < self.n:\n",
    "      return self.A[index]\n",
    "    else:\n",
    "      return 'IndexError'\n",
    "\n",
    "  def __delitem__(self,pos):\n",
    "    # delete pos wala item\n",
    "    if 0<= pos < self.n:\n",
    "      for i in range(pos,self.n-1):\n",
    "        self.A[i] = self.A[i+1]\n",
    "\n",
    "      self.n = self.n - 1\n",
    "\n",
    "  def __make_array(self,capacity):\n",
    "    # referential array(C type)\n",
    "    return (capacity*ctypes.py_object)()"
   ]
  },
  {
   "cell_type": "code",
   "execution_count": 3,
   "id": "c2e87364",
   "metadata": {},
   "outputs": [],
   "source": [
    "L = MeraList()"
   ]
  },
  {
   "cell_type": "code",
   "execution_count": 4,
   "id": "a0665ef3",
   "metadata": {},
   "outputs": [
    {
     "data": {
      "text/plain": [
       "__main__.MeraList"
      ]
     },
     "execution_count": 4,
     "metadata": {},
     "output_type": "execute_result"
    }
   ],
   "source": [
    "type(L)"
   ]
  },
  {
   "cell_type": "code",
   "execution_count": 5,
   "id": "0677baa3",
   "metadata": {},
   "outputs": [
    {
     "data": {
      "text/plain": [
       "0"
      ]
     },
     "execution_count": 5,
     "metadata": {},
     "output_type": "execute_result"
    }
   ],
   "source": [
    "len(L)"
   ]
  },
  {
   "cell_type": "code",
   "execution_count": 6,
   "id": "45a32eeb",
   "metadata": {},
   "outputs": [],
   "source": [
    "L.append('hello')\n",
    "L.append(3.4)\n",
    "L.append(True)\n",
    "L.append(69)"
   ]
  },
  {
   "cell_type": "code",
   "execution_count": 7,
   "id": "ad6d4bab",
   "metadata": {},
   "outputs": [
    {
     "name": "stdout",
     "output_type": "stream",
     "text": [
      "[hello,3.4,True,69]\n"
     ]
    }
   ],
   "source": [
    "print(L)"
   ]
  },
  {
   "cell_type": "code",
   "execution_count": 8,
   "id": "f895c2cc",
   "metadata": {},
   "outputs": [
    {
     "data": {
      "text/plain": [
       "69"
      ]
     },
     "execution_count": 8,
     "metadata": {},
     "output_type": "execute_result"
    }
   ],
   "source": [
    "L[3]"
   ]
  },
  {
   "cell_type": "code",
   "execution_count": 9,
   "id": "63bb89a3",
   "metadata": {},
   "outputs": [
    {
     "data": {
      "text/plain": [
       "'IndexError'"
      ]
     },
     "execution_count": 9,
     "metadata": {},
     "output_type": "execute_result"
    }
   ],
   "source": [
    "L[100]"
   ]
  },
  {
   "cell_type": "code",
   "execution_count": 10,
   "id": "57820bb8",
   "metadata": {},
   "outputs": [
    {
     "name": "stdout",
     "output_type": "stream",
     "text": [
      "69\n"
     ]
    }
   ],
   "source": [
    "L.pop()"
   ]
  },
  {
   "cell_type": "code",
   "execution_count": 11,
   "id": "cc7701a5",
   "metadata": {},
   "outputs": [],
   "source": [
    "L.insert(3,'gg')"
   ]
  },
  {
   "cell_type": "code",
   "execution_count": 12,
   "id": "0df34d9c",
   "metadata": {},
   "outputs": [
    {
     "name": "stdout",
     "output_type": "stream",
     "text": [
      "[hello,3.4,True,gg]\n"
     ]
    }
   ],
   "source": [
    "print(L)"
   ]
  },
  {
   "cell_type": "code",
   "execution_count": 13,
   "id": "c38f2703",
   "metadata": {},
   "outputs": [],
   "source": [
    "del L[0]"
   ]
  },
  {
   "cell_type": "code",
   "execution_count": 14,
   "id": "a7d4d553",
   "metadata": {},
   "outputs": [
    {
     "name": "stdout",
     "output_type": "stream",
     "text": [
      "[3.4,True,gg]\n"
     ]
    }
   ],
   "source": [
    "print(L)"
   ]
  },
  {
   "cell_type": "code",
   "execution_count": 16,
   "id": "5b5cfabb",
   "metadata": {},
   "outputs": [],
   "source": [
    "L.remove('gg')"
   ]
  },
  {
   "cell_type": "code",
   "execution_count": 17,
   "id": "816b23dd",
   "metadata": {},
   "outputs": [
    {
     "name": "stdout",
     "output_type": "stream",
     "text": [
      "[3.4,True]\n"
     ]
    }
   ],
   "source": [
    "print(L)"
   ]
  },
  {
   "cell_type": "code",
   "execution_count": null,
   "id": "272ee69c",
   "metadata": {},
   "outputs": [],
   "source": []
  }
 ],
 "metadata": {
  "kernelspec": {
   "display_name": "Python 3 (ipykernel)",
   "language": "python",
   "name": "python3"
  },
  "language_info": {
   "codemirror_mode": {
    "name": "ipython",
    "version": 3
   },
   "file_extension": ".py",
   "mimetype": "text/x-python",
   "name": "python",
   "nbconvert_exporter": "python",
   "pygments_lexer": "ipython3",
   "version": "3.10.5"
  }
 },
 "nbformat": 4,
 "nbformat_minor": 5
}

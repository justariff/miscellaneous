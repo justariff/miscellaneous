{
 "cells": [
  {
   "cell_type": "code",
   "execution_count": 1,
   "id": "4609a814",
   "metadata": {},
   "outputs": [],
   "source": [
    "class Node:\n",
    "    def __init__(self,value):\n",
    "        self.data = value\n",
    "        self.next = None"
   ]
  },
  {
   "cell_type": "code",
   "execution_count": 2,
   "id": "42c15ca5",
   "metadata": {},
   "outputs": [],
   "source": [
    "a = Node(1)\n",
    "b = Node(2)\n",
    "c = Node(3)"
   ]
  },
  {
   "cell_type": "code",
   "execution_count": 3,
   "id": "bb1b5db4",
   "metadata": {},
   "outputs": [
    {
     "name": "stdout",
     "output_type": "stream",
     "text": [
      "None\n",
      "2\n"
     ]
    }
   ],
   "source": [
    "print(a.next)\n",
    "print(b.data)"
   ]
  },
  {
   "cell_type": "code",
   "execution_count": 4,
   "id": "926ec1d8",
   "metadata": {},
   "outputs": [
    {
     "data": {
      "text/plain": [
       "2793753602240"
      ]
     },
     "execution_count": 4,
     "metadata": {},
     "output_type": "execute_result"
    }
   ],
   "source": [
    "id(c)"
   ]
  },
  {
   "cell_type": "code",
   "execution_count": 5,
   "id": "f3ed25f8",
   "metadata": {},
   "outputs": [],
   "source": [
    "# Making it a LL manually\n",
    "a.next = b\n",
    "b.next = c"
   ]
  },
  {
   "cell_type": "code",
   "execution_count": 6,
   "id": "7eb2b18b",
   "metadata": {},
   "outputs": [
    {
     "name": "stdout",
     "output_type": "stream",
     "text": [
      "<__main__.Node object at 0x0000028A78B0F040>\n"
     ]
    }
   ],
   "source": [
    "print(a.next)"
   ]
  },
  {
   "cell_type": "code",
   "execution_count": 5,
   "id": "8c56a3c8",
   "metadata": {},
   "outputs": [],
   "source": [
    "class Node:\n",
    "    def __init__(self,value):\n",
    "        self.data = value\n",
    "        self.next = None"
   ]
  },
  {
   "cell_type": "code",
   "execution_count": 6,
   "id": "6c4be89a",
   "metadata": {},
   "outputs": [],
   "source": [
    "## now creating LL\n",
    "class LinkedList:\n",
    "    def __init__(self):\n",
    "        \n",
    "        #Empty Linked List\n",
    "        self.head = None\n",
    "        # no. of nodes in the LL\n",
    "        self.n = 0\n",
    "\n",
    "## logic of len function (Number of nodes in the LL)\n",
    "    def __len__(self):\n",
    "        return self.n\n",
    "    \n",
    "## Inserting at head\n",
    "    def insert_head(self,value):\n",
    "        \n",
    "        # new_node\n",
    "        new_node = Node(value)\n",
    "        \n",
    "        # create connection\n",
    "        new_node.next = self.head\n",
    "        \n",
    "        # reassign head\n",
    "        self.head = new_node\n",
    "        \n",
    "        # increment n\n",
    "        self.n = self.n + 1\n",
    "\n",
    "## Travering the LL\n",
    "    def traverse(self):\n",
    "        \n",
    "        curr = self.head\n",
    "        \n",
    "        while curr != None:\n",
    "            print(curr.data)\n",
    "            curr = curr.next\n",
    "\n",
    "## Inserting at the tail\n",
    "    def append(self,value):\n",
    "        \n",
    "        new_node = Node(value)\n",
    "        \n",
    "        if self.head == None:  #check if node is empty\n",
    "            # empty\n",
    "            self.head = new_node\n",
    "            self.n = self.n + 1\n",
    "            return\n",
    "        \n",
    "        curr = self.head\n",
    "        \n",
    "        while curr.next != None:\n",
    "            curr = curr.next\n",
    "        \n",
    "        # now you at the last node\n",
    "        curr.next = new_node\n",
    "        self.n = self.n + 1\n",
    "        \n",
    "## Inserting in the middle(beech me kahin)\n",
    "    def insert_after(self,after,value):\n",
    "        new_node = Node(value)\n",
    "        \n",
    "        curr = self.head\n",
    "        \n",
    "        while curr != None:\n",
    "            if curr.data == after:\n",
    "                break\n",
    "            curr = curr.next\n",
    "        \n",
    "        # case 1 break hogaya -> item apko mil gaya -> curr != None\n",
    "        if curr != None:\n",
    "            # logic\n",
    "            new_node.next = curr.next\n",
    "            curr.next = new_node\n",
    "            self.n = self.n + 1\n",
    "        else:\n",
    "            return 'Item not found'\n",
    "        # case 2 loop pora chala -> item nahi mila -> curr = None\n",
    "        \n",
    "## Deleting/Clearing the whole list \n",
    "    def clear(self):\n",
    "        self.head = None\n",
    "        self.n = 0\n",
    "\n",
    "## Delete from Head\n",
    "    def delete_head(self):\n",
    "        if self.head()==None:  # check if the node is empty\n",
    "            return 'Empty Linked List'\n",
    "        self.head = self.head.next\n",
    "        self.n = self.n - 1\n",
    "        \n",
    "## Delete from tail // POP operation\n",
    "    def pop(self):\n",
    "        \n",
    "        # check that pehle se empty na ho\n",
    "        if self.head == None:\n",
    "            return 'Empty LL'\n",
    "        \n",
    "        curr = self.head\n",
    "        \n",
    "        #check -> kya LL me bas 1 hi item hai\n",
    "        if curr.next == None:\n",
    "            # head hi hoga (i.e. delete from head)\n",
    "            return self.delete_head()\n",
    "            \n",
    "        \n",
    "        while curr.next.next != None:\n",
    "            curr = curr.next\n",
    "        \n",
    "        # abhi 2nd last node pe hain -> now make it none so pop oprn occurs \n",
    "        curr.next = None\n",
    "        self.n = self.n - 1\n",
    "        \n",
    "## Deleting from Value\n",
    "    def remove(self,value):\n",
    "        \n",
    "        # check -> pehle se empty na ho\n",
    "        if self.head == None:\n",
    "            return 'Empty LL'\n",
    "        \n",
    "        # aage ke logic ke according value ke position se ek pehle rukna hai but agar pehla wala hi del karna hua toh\n",
    "        # therefore check lagao\n",
    "        if self.head.data == value:\n",
    "            return self.delete_head()\n",
    "        \n",
    "        curr = self.head\n",
    "        \n",
    "        while curr.next != None:\n",
    "            if curr.next.data == value:\n",
    "                break\n",
    "            curr = curr.next\n",
    "        #abhi hum value se ek position peeche hai\n",
    "        #2 cases - Item mil gaya ya phir nahi mila\n",
    "        if curr.next == None:\n",
    "            #item nahi mila\n",
    "            return 'Not Found'\n",
    "        else:\n",
    "            curr.next = curr.next.next\n",
    "            \n",
    "## Searching in LL\n",
    "# Search by Item\n",
    "    def search(self,item):\n",
    "        \n",
    "        curr = self.head\n",
    "        pos = 0\n",
    "        \n",
    "        while curr != None:\n",
    "            if curr.data == item:\n",
    "                return pos\n",
    "            curr = curr.next\n",
    "            pos = pos + 1\n",
    "        \n",
    "        return 'Not Found'\n",
    "\n",
    "# Search by Index\n",
    "    def __getitem__(self,index):\n",
    "        \n",
    "        curr = self.head\n",
    "        pos = 0\n",
    "        \n",
    "        while curr != None:\n",
    "            if pos == index:\n",
    "                return curr.data\n",
    "            curr = curr.next\n",
    "            pos+=1\n",
    "        return 'IndexError'"
   ]
  },
  {
   "cell_type": "code",
   "execution_count": 7,
   "id": "a19a2f05",
   "metadata": {},
   "outputs": [],
   "source": [
    "L = LinkedList()"
   ]
  },
  {
   "cell_type": "code",
   "execution_count": 8,
   "id": "79a98547",
   "metadata": {},
   "outputs": [],
   "source": [
    "L.insert_head(1)\n",
    "L.insert_head(2)\n",
    "L.insert_head(3)\n",
    "L.insert_head(4)"
   ]
  },
  {
   "cell_type": "code",
   "execution_count": 9,
   "id": "b6bfdf6d",
   "metadata": {},
   "outputs": [
    {
     "data": {
      "text/plain": [
       "4"
      ]
     },
     "execution_count": 9,
     "metadata": {},
     "output_type": "execute_result"
    }
   ],
   "source": [
    "len(L)"
   ]
  },
  {
   "cell_type": "code",
   "execution_count": 10,
   "id": "f6d1aa77",
   "metadata": {},
   "outputs": [
    {
     "name": "stdout",
     "output_type": "stream",
     "text": [
      "4\n",
      "3\n",
      "2\n",
      "1\n"
     ]
    }
   ],
   "source": [
    "L.traverse()"
   ]
  },
  {
   "cell_type": "code",
   "execution_count": 11,
   "id": "088a73d4",
   "metadata": {},
   "outputs": [],
   "source": [
    "L.append(59)"
   ]
  },
  {
   "cell_type": "code",
   "execution_count": 12,
   "id": "061ce644",
   "metadata": {},
   "outputs": [
    {
     "name": "stdout",
     "output_type": "stream",
     "text": [
      "4\n",
      "3\n",
      "2\n",
      "1\n",
      "59\n"
     ]
    }
   ],
   "source": [
    "L.traverse()"
   ]
  },
  {
   "cell_type": "code",
   "execution_count": 15,
   "id": "37fa7681",
   "metadata": {},
   "outputs": [
    {
     "data": {
      "text/plain": [
       "'Item not found'"
      ]
     },
     "execution_count": 15,
     "metadata": {},
     "output_type": "execute_result"
    }
   ],
   "source": [
    "L.insert_after(23,69)"
   ]
  },
  {
   "cell_type": "code",
   "execution_count": 16,
   "id": "62fdcb68",
   "metadata": {},
   "outputs": [],
   "source": [
    "L.insert_after(2,69)"
   ]
  },
  {
   "cell_type": "code",
   "execution_count": 17,
   "id": "f46cc413",
   "metadata": {},
   "outputs": [
    {
     "name": "stdout",
     "output_type": "stream",
     "text": [
      "4\n",
      "3\n",
      "2\n",
      "69\n",
      "1\n",
      "59\n"
     ]
    }
   ],
   "source": [
    "L.traverse()"
   ]
  },
  {
   "cell_type": "code",
   "execution_count": 18,
   "id": "b4d5dcd2",
   "metadata": {},
   "outputs": [],
   "source": [
    "#L.clear()"
   ]
  },
  {
   "cell_type": "code",
   "execution_count": 19,
   "id": "8d601813",
   "metadata": {},
   "outputs": [
    {
     "data": {
      "text/plain": [
       "6"
      ]
     },
     "execution_count": 19,
     "metadata": {},
     "output_type": "execute_result"
    }
   ],
   "source": [
    "len(L)"
   ]
  },
  {
   "cell_type": "code",
   "execution_count": 20,
   "id": "6b678ca0",
   "metadata": {},
   "outputs": [],
   "source": [
    "#L.delete_head()"
   ]
  },
  {
   "cell_type": "code",
   "execution_count": 21,
   "id": "53b2c3e0",
   "metadata": {},
   "outputs": [
    {
     "name": "stdout",
     "output_type": "stream",
     "text": [
      "4\n",
      "3\n",
      "2\n",
      "69\n",
      "1\n",
      "59\n"
     ]
    }
   ],
   "source": [
    "L.traverse()"
   ]
  },
  {
   "cell_type": "code",
   "execution_count": 22,
   "id": "87b4a065",
   "metadata": {},
   "outputs": [],
   "source": [
    "#L.pop()"
   ]
  },
  {
   "cell_type": "code",
   "execution_count": 23,
   "id": "9ef9eca6",
   "metadata": {},
   "outputs": [
    {
     "name": "stdout",
     "output_type": "stream",
     "text": [
      "4\n",
      "3\n",
      "2\n",
      "69\n",
      "1\n",
      "59\n"
     ]
    }
   ],
   "source": [
    "L.traverse()"
   ]
  },
  {
   "cell_type": "code",
   "execution_count": 24,
   "id": "c3bcbab4",
   "metadata": {},
   "outputs": [
    {
     "name": "stdout",
     "output_type": "stream",
     "text": [
      "4\n",
      "3\n",
      "2\n",
      "69\n",
      "1\n",
      "59\n"
     ]
    }
   ],
   "source": [
    "#L.remove(69)\n",
    "L.traverse()"
   ]
  },
  {
   "cell_type": "code",
   "execution_count": 25,
   "id": "5c9946df",
   "metadata": {},
   "outputs": [
    {
     "data": {
      "text/plain": [
       "3"
      ]
     },
     "execution_count": 25,
     "metadata": {},
     "output_type": "execute_result"
    }
   ],
   "source": [
    "L.search(69)"
   ]
  },
  {
   "cell_type": "code",
   "execution_count": 26,
   "id": "cd4dc6bf",
   "metadata": {},
   "outputs": [
    {
     "name": "stdout",
     "output_type": "stream",
     "text": [
      "4\n"
     ]
    }
   ],
   "source": [
    "print(L[0])"
   ]
  },
  {
   "cell_type": "code",
   "execution_count": null,
   "id": "803c5fbc",
   "metadata": {},
   "outputs": [],
   "source": []
  }
 ],
 "metadata": {
  "kernelspec": {
   "display_name": "Python 3 (ipykernel)",
   "language": "python",
   "name": "python3"
  },
  "language_info": {
   "codemirror_mode": {
    "name": "ipython",
    "version": 3
   },
   "file_extension": ".py",
   "mimetype": "text/x-python",
   "name": "python",
   "nbconvert_exporter": "python",
   "pygments_lexer": "ipython3",
   "version": "3.10.5"
  }
 },
 "nbformat": 4,
 "nbformat_minor": 5
}

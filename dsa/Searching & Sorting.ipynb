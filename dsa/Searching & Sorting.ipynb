{
 "cells": [
  {
   "cell_type": "markdown",
   "id": "c03c9018",
   "metadata": {},
   "source": [
    "### Linear Search"
   ]
  },
  {
   "cell_type": "markdown",
   "id": "4557ce0c",
   "metadata": {},
   "source": [
    "Time Complexity is O(N) and no sorting required"
   ]
  },
  {
   "cell_type": "code",
   "execution_count": 1,
   "id": "6d1c61f3",
   "metadata": {},
   "outputs": [],
   "source": [
    "# Brute Force\n",
    "\n",
    "def linear_search(arr, item):\n",
    "    for i in range(len(arr)):\n",
    "        if arr[i] == item:\n",
    "            return i\n",
    "        \n",
    "    return -1"
   ]
  },
  {
   "cell_type": "code",
   "execution_count": 2,
   "id": "2166a7c1",
   "metadata": {},
   "outputs": [
    {
     "data": {
      "text/plain": [
       "3"
      ]
     },
     "execution_count": 2,
     "metadata": {},
     "output_type": "execute_result"
    }
   ],
   "source": [
    "arr = [3,5,77,34,21]\n",
    "linear_search(arr,34)"
   ]
  },
  {
   "cell_type": "markdown",
   "id": "87d8aeb7",
   "metadata": {},
   "source": [
    "### Binary Search"
   ]
  },
  {
   "cell_type": "markdown",
   "id": "ce846f90",
   "metadata": {},
   "source": [
    "It needs sorted array."
   ]
  },
  {
   "cell_type": "markdown",
   "id": "a72b9af0",
   "metadata": {},
   "source": [
    "Time Complexity : O(logn)"
   ]
  },
  {
   "cell_type": "code",
   "execution_count": 3,
   "id": "c1dc70ec",
   "metadata": {},
   "outputs": [],
   "source": [
    "def binary_search(arr,low,high,item):\n",
    "    if low <= high:\n",
    "        #search\n",
    "        mid = (low+high)//2\n",
    "        if arr[mid] == item:\n",
    "            return mid\n",
    "        elif arr[mid] > item:\n",
    "            return binary_search(arr, low, mid-1,item)\n",
    "        else:\n",
    "            return binary_search(arr,mid+1,high,item)\n",
    "               \n",
    "    else:\n",
    "        return -1\n",
    "    "
   ]
  },
  {
   "cell_type": "code",
   "execution_count": 4,
   "id": "0ceb4eb2",
   "metadata": {},
   "outputs": [
    {
     "name": "stdout",
     "output_type": "stream",
     "text": [
      "4\n"
     ]
    }
   ],
   "source": [
    "arr = [2,12,31,54,67,71,93,107]\n",
    "print(binary_search(arr, 0, len(arr)-1, 67))"
   ]
  },
  {
   "cell_type": "markdown",
   "id": "68b7b2e3",
   "metadata": {},
   "source": [
    "### Bubble Sort"
   ]
  },
  {
   "cell_type": "raw",
   "id": "9e0fe175",
   "metadata": {},
   "source": [
    "No. of pass -> (n-1)\n",
    "No. of comparison and swaps(possible) -> (n-1)  [decides the T.C.]\n",
    "Time Complexity: O(N2)---worst\n",
    "Space Complexity: O(1)\n",
    "\n",
    "# Adaptive sort takes advantage of the existing order of the input to try to achieve better times\n",
    "Adaptive : Non-adaptive (but can be adaptive by modifying it[given below])\n",
    "\n",
    "#Stable - Order of two same elements should be same after sorting\n",
    "Stable: Yes"
   ]
  },
  {
   "cell_type": "code",
   "execution_count": 5,
   "id": "b00ea221",
   "metadata": {},
   "outputs": [],
   "source": [
    "# Gerneral code which is non-adaptive and best T.C. is O(N2)\n",
    "def bubble_sort(arr):\n",
    "    \n",
    "    for i in range(len(arr)-1):\n",
    "        for j in range(len(arr)-1-i):\n",
    "            if arr[j] > arr[j+1]:\n",
    "                arr[j],arr[j+1] = arr[j+1],arr[j]\n",
    "    print(arr)"
   ]
  },
  {
   "cell_type": "code",
   "execution_count": 6,
   "id": "6436ba06",
   "metadata": {},
   "outputs": [
    {
     "name": "stdout",
     "output_type": "stream",
     "text": [
      "[-3, 1, 2, 3, 7, 7, 13]\n"
     ]
    }
   ],
   "source": [
    "arr = [3,7,2,1,13,7,-3]\n",
    "bubble_sort(arr)"
   ]
  },
  {
   "cell_type": "code",
   "execution_count": 7,
   "id": "a19f4d14",
   "metadata": {},
   "outputs": [],
   "source": [
    "# Adaptive Bubble sort code and best T.C is O(N)\n",
    "def bubble_sort(arr):\n",
    "    \n",
    "    for i in range(len(arr)-1):\n",
    "        flag = 0\n",
    "        for j in range(len(arr)-1-i):\n",
    "            if arr[j] > arr[j+1]:\n",
    "                arr[j],arr[j+1] = arr[j+1],arr[j]\n",
    "                flag = 1\n",
    "                \n",
    "        if flag == 0:\n",
    "            break\n",
    "    print(arr)"
   ]
  },
  {
   "cell_type": "code",
   "execution_count": 8,
   "id": "4d2e13dd",
   "metadata": {},
   "outputs": [
    {
     "name": "stdout",
     "output_type": "stream",
     "text": [
      "[-3, 1, 2, 3, 7, 7, 13]\n"
     ]
    }
   ],
   "source": [
    "arr = [3,7,2,1,13,7,-3]\n",
    "bubble_sort(arr)"
   ]
  },
  {
   "cell_type": "markdown",
   "id": "06c24d00",
   "metadata": {},
   "source": [
    "### Selection Sort"
   ]
  },
  {
   "cell_type": "raw",
   "id": "1d872206",
   "metadata": {},
   "source": [
    "No. of pass -> (n-1)\n",
    "  At each pass : No. of comparison -> (n-1) and swaps -> 1                                                                   [decides the T.C.]\n",
    "Time Complexity: O(N2)---worst\n",
    "Space Complexity: O(1)\n",
    "\n",
    "Adaptive -> No\n",
    "Stability -> No\n",
    "Benefits -> swapping kam hai therefore time kam leta hai\n",
    "            har pass ke baad, ek-ek item sort hote jata hai"
   ]
  },
  {
   "cell_type": "code",
   "execution_count": 9,
   "id": "540be2db",
   "metadata": {},
   "outputs": [],
   "source": [
    "def selection_sort(arr):\n",
    "    \n",
    "    for i in range(len(arr)-1):\n",
    "        \n",
    "        min = i\n",
    "        for j in range(i+1,len(arr)):\n",
    "            if arr[j] < arr[min]:\n",
    "                min = j\n",
    "        arr[i],arr[min] = arr[min],arr[i]\n",
    "        \n",
    "    print(arr)"
   ]
  },
  {
   "cell_type": "code",
   "execution_count": 10,
   "id": "4afc7764",
   "metadata": {},
   "outputs": [
    {
     "name": "stdout",
     "output_type": "stream",
     "text": [
      "[-2, 3, 4, 5, 5, 8, 12, 73]\n"
     ]
    }
   ],
   "source": [
    "arr = [4,5,8,12,3,5,-2,73]\n",
    "selection_sort(arr)"
   ]
  },
  {
   "cell_type": "markdown",
   "id": "ba9de868",
   "metadata": {},
   "source": [
    "### Merge Sort"
   ]
  },
  {
   "cell_type": "markdown",
   "id": "1cbb19be",
   "metadata": {},
   "source": [
    "Based on divide and conquer."
   ]
  },
  {
   "cell_type": "raw",
   "id": "08bf9042",
   "metadata": {},
   "source": [
    "Time Complexity: O(nlogn) -- worst\n",
    "Space Complexity: O(n) -- recursion\n",
    "\n",
    "Adaptive : No\n",
    "Stable : Yes"
   ]
  },
  {
   "cell_type": "code",
   "execution_count": 11,
   "id": "14c8a707",
   "metadata": {},
   "outputs": [
    {
     "name": "stdout",
     "output_type": "stream",
     "text": [
      "[-2, 0, 4, 5, 5, 7, 21, 23, 34]\n"
     ]
    }
   ],
   "source": [
    "#Nischay Malhan (yt)\n",
    "\n",
    "def merge(left,right):\n",
    "    result = []\n",
    "    i=j=0\n",
    "    \n",
    "    while i<len(left) and j<len(right):\n",
    "        if left[i] <= right[j]:\n",
    "            result.append(left[i])\n",
    "            i+=1\n",
    "        else:\n",
    "            result.append(right[j])\n",
    "            j+=1\n",
    "            \n",
    "    result += left[i:]\n",
    "    result += right[j:]\n",
    "    return result\n",
    "\n",
    "def mergesort(lst):\n",
    "    if(len(lst) <= 1):\n",
    "        return lst\n",
    "    \n",
    "    mid = len(lst)//2\n",
    "    left = mergesort(lst[:mid])\n",
    "    right = mergesort(lst[mid:])\n",
    "    return merge(left,right)\n",
    "\n",
    "arr = [7,34,5,23,21,-2,5,0,4]\n",
    "print(mergesort(arr))"
   ]
  },
  {
   "cell_type": "code",
   "execution_count": null,
   "id": "1810f264",
   "metadata": {},
   "outputs": [],
   "source": []
  },
  {
   "cell_type": "code",
   "execution_count": 13,
   "id": "16251b80",
   "metadata": {},
   "outputs": [],
   "source": [
    "### Insertion Sort\n",
    "\n",
    "### Quick Sort\n"
   ]
  },
  {
   "cell_type": "code",
   "execution_count": null,
   "id": "0d63e323",
   "metadata": {},
   "outputs": [],
   "source": []
  }
 ],
 "metadata": {
  "kernelspec": {
   "display_name": "Python 3 (ipykernel)",
   "language": "python",
   "name": "python3"
  },
  "language_info": {
   "codemirror_mode": {
    "name": "ipython",
    "version": 3
   },
   "file_extension": ".py",
   "mimetype": "text/x-python",
   "name": "python",
   "nbconvert_exporter": "python",
   "pygments_lexer": "ipython3",
   "version": "3.10.5"
  }
 },
 "nbformat": 4,
 "nbformat_minor": 5
}

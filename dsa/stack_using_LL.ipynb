{
 "cells": [
  {
   "cell_type": "code",
   "execution_count": 1,
   "id": "3ea61c97",
   "metadata": {},
   "outputs": [],
   "source": [
    "class Node:\n",
    "    \n",
    "    def __init__(self,value):\n",
    "        self.data = value\n",
    "        self.next = None"
   ]
  },
  {
   "cell_type": "code",
   "execution_count": 2,
   "id": "85be4a3f",
   "metadata": {},
   "outputs": [],
   "source": [
    "class Stack:\n",
    "    \n",
    "    def __init__(self):\n",
    "        self.top = None\n",
    "    \n",
    "    def isempty(self):\n",
    "        return self.top == None\n",
    "    \n",
    "    def push(self,value):\n",
    "        new_node = Node(value)\n",
    "        new_node.next = self.top\n",
    "        self.top = new_node\n",
    "        \n",
    "    def peek(self):  # this returns the top ka value\n",
    "        if (self.isempty()):\n",
    "            return 'Stack Empty'\n",
    "        else:\n",
    "            return self.top.data\n",
    "        \n",
    "    def pop(self):\n",
    "        if (self.isempty()):\n",
    "            return 'Stack Empty'\n",
    "        else:\n",
    "            data = self.top.data   #change_1\n",
    "            self.top = self.top.next\n",
    "            return data           #change_2\n",
    "        \n",
    "    def traverse(self):\n",
    "        temp = self.top\n",
    "        while temp != None:\n",
    "            print(temp.data)\n",
    "            temp = temp.next"
   ]
  },
  {
   "cell_type": "code",
   "execution_count": 3,
   "id": "6b3c236d",
   "metadata": {},
   "outputs": [],
   "source": [
    "s = Stack()"
   ]
  },
  {
   "cell_type": "code",
   "execution_count": 4,
   "id": "536245ac",
   "metadata": {},
   "outputs": [
    {
     "data": {
      "text/plain": [
       "True"
      ]
     },
     "execution_count": 4,
     "metadata": {},
     "output_type": "execute_result"
    }
   ],
   "source": [
    "s.isempty()"
   ]
  },
  {
   "cell_type": "code",
   "execution_count": 5,
   "id": "585fc267",
   "metadata": {},
   "outputs": [],
   "source": [
    "s.push(2)"
   ]
  },
  {
   "cell_type": "code",
   "execution_count": 6,
   "id": "efb81755",
   "metadata": {},
   "outputs": [
    {
     "data": {
      "text/plain": [
       "False"
      ]
     },
     "execution_count": 6,
     "metadata": {},
     "output_type": "execute_result"
    }
   ],
   "source": [
    "s.isempty()"
   ]
  },
  {
   "cell_type": "code",
   "execution_count": 7,
   "id": "a7527ea3",
   "metadata": {},
   "outputs": [],
   "source": [
    "s.push(3)\n",
    "s.push(4)\n",
    "s.push(5)"
   ]
  },
  {
   "cell_type": "code",
   "execution_count": 8,
   "id": "b5bc45cc",
   "metadata": {},
   "outputs": [
    {
     "name": "stdout",
     "output_type": "stream",
     "text": [
      "5\n",
      "4\n",
      "3\n",
      "2\n"
     ]
    }
   ],
   "source": [
    "s.traverse()"
   ]
  },
  {
   "cell_type": "code",
   "execution_count": 9,
   "id": "1e1f00c3",
   "metadata": {},
   "outputs": [
    {
     "data": {
      "text/plain": [
       "5"
      ]
     },
     "execution_count": 9,
     "metadata": {},
     "output_type": "execute_result"
    }
   ],
   "source": [
    "s.peek()"
   ]
  },
  {
   "cell_type": "code",
   "execution_count": 10,
   "id": "2801c05a",
   "metadata": {},
   "outputs": [
    {
     "data": {
      "text/plain": [
       "5"
      ]
     },
     "execution_count": 10,
     "metadata": {},
     "output_type": "execute_result"
    }
   ],
   "source": [
    "s.pop()"
   ]
  },
  {
   "cell_type": "code",
   "execution_count": 11,
   "id": "dad0d991",
   "metadata": {},
   "outputs": [
    {
     "data": {
      "text/plain": [
       "4"
      ]
     },
     "execution_count": 11,
     "metadata": {},
     "output_type": "execute_result"
    }
   ],
   "source": [
    "s.peek()"
   ]
  },
  {
   "cell_type": "code",
   "execution_count": 12,
   "id": "499ce754",
   "metadata": {},
   "outputs": [],
   "source": [
    "# Some Practice Problems using Stack\n",
    "# 1. Reverse a string using Stack\n",
    "\n",
    "def reverse_string(text):\n",
    "    s = Stack()\n",
    "    for i in text:\n",
    "        s.push(i)\n",
    "    \n",
    "    res = \"\"\n",
    "    while(not s.isempty()):\n",
    "        res = res + s.pop()   # coz of this there's some change in pop function\n",
    "    print(res)\n"
   ]
  },
  {
   "cell_type": "code",
   "execution_count": 13,
   "id": "44060dc9",
   "metadata": {},
   "outputs": [
    {
     "name": "stdout",
     "output_type": "stream",
     "text": [
      "irasnA_firA\n"
     ]
    }
   ],
   "source": [
    "reverse_string(\"Arif_Ansari\")"
   ]
  },
  {
   "cell_type": "code",
   "execution_count": 14,
   "id": "19810832",
   "metadata": {},
   "outputs": [],
   "source": [
    "# 2. text editor (undo/redo)\n",
    "\n",
    "def text_editor(text,pattern):\n",
    "    u = Stack()\n",
    "    r = Stack()\n",
    "    \n",
    "    for i in text:\n",
    "        u.push(i)\n",
    "        \n",
    "    for i in pattern:\n",
    "        if i == 'u':\n",
    "            data = u.pop()\n",
    "            r.push(data)\n",
    "        else:\n",
    "            data = r.pop()\n",
    "            u.push(data)\n",
    "            \n",
    "    res = \"\"       \n",
    "    while(not u.isempty()):\n",
    "        res = u.pop() + res\n",
    "    print(res)"
   ]
  },
  {
   "cell_type": "code",
   "execution_count": 15,
   "id": "95cb3f36",
   "metadata": {},
   "outputs": [
    {
     "name": "stdout",
     "output_type": "stream",
     "text": [
      "Arif\n"
     ]
    }
   ],
   "source": [
    "text_editor(\"Arif\",\"ur\") ## giving wrong answer"
   ]
  },
  {
   "cell_type": "code",
   "execution_count": 19,
   "id": "b0bd929f",
   "metadata": {},
   "outputs": [],
   "source": [
    "# 3. Balanced Brackets\n",
    "\n",
    "def isBalanced(s):\n",
    "    stack = []\n",
    "    bracket = {'{':'}','(':')','[':']'}\n",
    "    \n",
    "    for char in s:\n",
    "        if char in ['{','(','[']:\n",
    "            stack.append(char)\n",
    "        else:\n",
    "            if stack:\n",
    "                top = stack.pop()\n",
    "                if bracket[top] != char:\n",
    "                    return 'NO'\n",
    "            else:\n",
    "                return 'NO'\n",
    "    return 'NO' if stack else 'YES'"
   ]
  },
  {
   "cell_type": "code",
   "execution_count": 20,
   "id": "b3c7ef27",
   "metadata": {},
   "outputs": [
    {
     "data": {
      "text/plain": [
       "'YES'"
      ]
     },
     "execution_count": 20,
     "metadata": {},
     "output_type": "execute_result"
    }
   ],
   "source": [
    "isBalanced('{{[[(())]]}}')"
   ]
  },
  {
   "cell_type": "code",
   "execution_count": 21,
   "id": "0fdde731",
   "metadata": {},
   "outputs": [
    {
     "data": {
      "text/plain": [
       "'NO'"
      ]
     },
     "execution_count": 21,
     "metadata": {},
     "output_type": "execute_result"
    }
   ],
   "source": [
    "isBalanced('{[(])}')"
   ]
  },
  {
   "cell_type": "code",
   "execution_count": null,
   "id": "d83604db",
   "metadata": {},
   "outputs": [],
   "source": []
  }
 ],
 "metadata": {
  "kernelspec": {
   "display_name": "Python 3 (ipykernel)",
   "language": "python",
   "name": "python3"
  },
  "language_info": {
   "codemirror_mode": {
    "name": "ipython",
    "version": 3
   },
   "file_extension": ".py",
   "mimetype": "text/x-python",
   "name": "python",
   "nbconvert_exporter": "python",
   "pygments_lexer": "ipython3",
   "version": "3.10.5"
  }
 },
 "nbformat": 4,
 "nbformat_minor": 5
}

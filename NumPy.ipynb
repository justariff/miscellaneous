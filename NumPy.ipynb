{
 "cells": [
  {
   "cell_type": "code",
   "execution_count": 1,
   "id": "0d44b5f4",
   "metadata": {},
   "outputs": [],
   "source": [
    "import numpy as np"
   ]
  },
  {
   "cell_type": "code",
   "execution_count": 2,
   "id": "61609bf2",
   "metadata": {},
   "outputs": [
    {
     "name": "stdout",
     "output_type": "stream",
     "text": [
      "[1 2 3 4 5 6 7 8 9]\n",
      "[[1 2 3]\n",
      " [4 5 6]\n",
      " [7 8 9]]\n",
      "<class 'numpy.ndarray'>\n",
      "1\n",
      "2\n"
     ]
    }
   ],
   "source": [
    "a = np.array([1,2,3,4,5,6,7,8,9])\n",
    "print(a)\n",
    "b = np.array([[1,2,3],[4,5,6],[7,8,9]])\n",
    "print(b)\n",
    "print(type(a))\n",
    "\n",
    "#Finding the dimensions of the array:\n",
    "\n",
    "print(a.ndim)\n",
    "print(b.ndim)"
   ]
  },
  {
   "cell_type": "code",
   "execution_count": 3,
   "id": "749c4c68",
   "metadata": {},
   "outputs": [
    {
     "name": "stdout",
     "output_type": "stream",
     "text": [
      "4\n",
      "4\n",
      "9\n",
      "9\n",
      "(9,)\n",
      "(3, 3)\n"
     ]
    }
   ],
   "source": [
    "# Finding bytesize of each element\n",
    "print(a.itemsize)\n",
    "print(b.itemsize)\n",
    "\n",
    "#Finding the size \n",
    "print(a.size)\n",
    "print(b.size)\n",
    "\n",
    "#Finding the shape\n",
    "print(a.shape)\n",
    "print(b.shape)"
   ]
  },
  {
   "cell_type": "code",
   "execution_count": 4,
   "id": "ed284e16",
   "metadata": {},
   "outputs": [
    {
     "name": "stdout",
     "output_type": "stream",
     "text": [
      "[[1 2]\n",
      " [3 4]\n",
      " [5 6]\n",
      " [7 8]]\n"
     ]
    }
   ],
   "source": [
    "c = np.array([[1,2,3,4],[5,6,7,8]])\n",
    "#reshape\n",
    "print(c.reshape(4,2))"
   ]
  },
  {
   "cell_type": "code",
   "execution_count": 5,
   "id": "877bb4a5",
   "metadata": {},
   "outputs": [
    {
     "name": "stdout",
     "output_type": "stream",
     "text": [
      "[3 5]\n",
      "[9 8 7 6 5 4 3 2 1]\n",
      "[1 3 5 7 9]\n",
      "2D array||\n",
      "[5]\n"
     ]
    }
   ],
   "source": [
    "#slicing\n",
    "print(a[2:-3:2])\n",
    "print(a[::-1])\n",
    "print(a[::2])\n",
    "\n",
    "#slicing 2D array\n",
    "print(\"2D array||\")\n",
    "print(b[1,1:2])"
   ]
  },
  {
   "cell_type": "code",
   "execution_count": 6,
   "id": "e4b14e46",
   "metadata": {},
   "outputs": [
    {
     "name": "stdout",
     "output_type": "stream",
     "text": [
      "[4.   4.75 5.5  6.25 7.  ]\n",
      "9\n",
      "1\n",
      "45\n"
     ]
    }
   ],
   "source": [
    "#Linespacing\n",
    "x = np.linspace(4,7,5)\n",
    "print(x)\n",
    "\n",
    "print(a.max())\n",
    "print(a.min())\n",
    "print(a.sum())"
   ]
  },
  {
   "cell_type": "code",
   "execution_count": 7,
   "id": "f1462e9f",
   "metadata": {},
   "outputs": [
    {
     "data": {
      "text/plain": [
       "array([[1, 2, 3],\n",
       "       [4, 5, 6],\n",
       "       [7, 8, 9]])"
      ]
     },
     "execution_count": 7,
     "metadata": {},
     "output_type": "execute_result"
    }
   ],
   "source": [
    "b"
   ]
  },
  {
   "cell_type": "code",
   "execution_count": 8,
   "id": "ad913210",
   "metadata": {},
   "outputs": [
    {
     "name": "stdout",
     "output_type": "stream",
     "text": [
      "[12 15 18]\n"
     ]
    }
   ],
   "source": [
    "# Sum of whole rows amd columns\n",
    "print(b.sum(axis=0)) "
   ]
  },
  {
   "cell_type": "code",
   "execution_count": 9,
   "id": "d4c52a4d",
   "metadata": {},
   "outputs": [
    {
     "name": "stdout",
     "output_type": "stream",
     "text": [
      "[[1.         1.41421356 1.73205081]\n",
      " [2.         2.23606798 2.44948974]\n",
      " [2.64575131 2.82842712 3.        ]]\n"
     ]
    }
   ],
   "source": [
    "# Finding the square root\n",
    "print(np.sqrt(b))"
   ]
  },
  {
   "cell_type": "code",
   "execution_count": 10,
   "id": "51d3f8ee",
   "metadata": {},
   "outputs": [
    {
     "name": "stdout",
     "output_type": "stream",
     "text": [
      "2.581988897471611\n"
     ]
    }
   ],
   "source": [
    "# standard devoation\n",
    "print(np.std(b))"
   ]
  },
  {
   "cell_type": "code",
   "execution_count": 11,
   "id": "c10dc2a3",
   "metadata": {},
   "outputs": [
    {
     "name": "stdout",
     "output_type": "stream",
     "text": [
      "['1' '2' '3']\n",
      "<U1\n",
      "[1 2 3]\n",
      "int32\n"
     ]
    }
   ],
   "source": [
    "# Type Conversion\n",
    "\n",
    "arr = np.array(['1', '2', '3'])\n",
    "print(arr)\n",
    "print(arr.dtype)\n",
    "new_arr = arr.astype('i')\n",
    "print(new_arr)\n",
    "print(new_arr.dtype)"
   ]
  },
  {
   "cell_type": "code",
   "execution_count": 12,
   "id": "61d799cd",
   "metadata": {},
   "outputs": [
    {
     "name": "stdout",
     "output_type": "stream",
     "text": [
      "[1 2 3 4 5]\n"
     ]
    }
   ],
   "source": [
    "# copy using NumPy\n",
    "\n",
    "arr = np.array([1,2,3,4,5])\n",
    "x = arr.copy()\n",
    "print(x)"
   ]
  },
  {
   "cell_type": "code",
   "execution_count": 13,
   "id": "b85f5bf2",
   "metadata": {},
   "outputs": [
    {
     "name": "stdout",
     "output_type": "stream",
     "text": [
      "[39 42  3  4  5]\n",
      "[39 42  3  4  5]\n"
     ]
    }
   ],
   "source": [
    "# view\n",
    "\n",
    "x = arr.view()\n",
    "arr[1] = 42\n",
    "x[0] = 39\n",
    "\n",
    "print(arr)\n",
    "print(x)"
   ]
  },
  {
   "cell_type": "code",
   "execution_count": 15,
   "id": "ebaa6ea9",
   "metadata": {},
   "outputs": [
    {
     "name": "stdout",
     "output_type": "stream",
     "text": [
      "[1 2 3 4 5 6]\n"
     ]
    }
   ],
   "source": [
    "# Join two array\n",
    "\n",
    "arr1 = np.array([1,2,3])\n",
    "arr2 = np.array([4,5,6])\n",
    "arr = np.concatenate((arr1,arr2))\n",
    "print(arr)"
   ]
  },
  {
   "cell_type": "code",
   "execution_count": 18,
   "id": "9790111c",
   "metadata": {},
   "outputs": [
    {
     "name": "stdout",
     "output_type": "stream",
     "text": [
      "[[1 2 5 6]\n",
      " [3 4 7 8]]\n"
     ]
    }
   ],
   "source": [
    "# joining two 2-D array\n",
    "\n",
    "arr1 = np.array([[1, 2], [3, 4]])\n",
    "\n",
    "arr2 = np.array([[5, 6], [7, 8]])\n",
    "\n",
    "arr = np.concatenate((arr1, arr2), axis=1)\n",
    "\n",
    "print(arr)"
   ]
  },
  {
   "cell_type": "code",
   "execution_count": 21,
   "id": "2de606a3",
   "metadata": {},
   "outputs": [
    {
     "name": "stdout",
     "output_type": "stream",
     "text": [
      "[[1 2 3]\n",
      " [3 4 5]\n",
      " [1 2 3]\n",
      " [3 4 5]]\n",
      "[[1 2 3 1 2 3]\n",
      " [3 4 5 3 4 5]]\n",
      "[[[1 1]\n",
      "  [2 2]\n",
      "  [3 3]]\n",
      "\n",
      " [[3 3]\n",
      "  [4 4]\n",
      "  [5 5]]]\n"
     ]
    }
   ],
   "source": [
    "# Stacking two arrays(concatenating)\n",
    "\n",
    "a = np.array([[1,2,3],[3,4,5,]])\n",
    "b = np.array([[1,2,3],[3,4,5]])\n",
    "\n",
    "print(np.vstack((a,b)))\n",
    "\n",
    "print(np.hstack((a,b)))\n",
    "\n",
    "print(np.dstack((a,b)))"
   ]
  },
  {
   "cell_type": "code",
   "execution_count": 25,
   "id": "a2da0d6c",
   "metadata": {},
   "outputs": [
    {
     "name": "stdout",
     "output_type": "stream",
     "text": [
      "[array([1, 2]), array([3, 4]), array([5, 6])]\n"
     ]
    }
   ],
   "source": [
    "# Splitting the array\n",
    "\n",
    "arr = np.array([1,2,3,4,5,6])\n",
    "newarr = np.array_split(arr,3)\n",
    "print(newarr)"
   ]
  },
  {
   "cell_type": "code",
   "execution_count": 30,
   "id": "eaf798f0",
   "metadata": {},
   "outputs": [
    {
     "name": "stdout",
     "output_type": "stream",
     "text": [
      "[array([[1, 2],\n",
      "       [3, 4]]), array([[5, 6],\n",
      "       [7, 8]]), array([[ 9, 10],\n",
      "       [11, 12]])]\n"
     ]
    }
   ],
   "source": [
    "# Splitting 2D array\n",
    "\n",
    "arr = np.array([[1, 2], [3, 4], [5, 6], [7, 8], [9, 10], [11, 12]])\n",
    "newarr = np.array_split(arr, 3)\n",
    "print(newarr)"
   ]
  },
  {
   "cell_type": "code",
   "execution_count": 31,
   "id": "c71a9e6b",
   "metadata": {},
   "outputs": [
    {
     "name": "stdout",
     "output_type": "stream",
     "text": [
      "(array([3, 5, 6], dtype=int64),)\n"
     ]
    }
   ],
   "source": [
    "# Searching array\n",
    "\n",
    "arr = np.array([1,2,3,4,5,4,4])\n",
    "x = np.where(arr == 4)\n",
    "print(x)"
   ]
  },
  {
   "cell_type": "code",
   "execution_count": 33,
   "id": "75c913ac",
   "metadata": {},
   "outputs": [
    {
     "name": "stdout",
     "output_type": "stream",
     "text": [
      "[ 1  3  5  6  6  9 33]\n"
     ]
    }
   ],
   "source": [
    "# Sorting array\n",
    "\n",
    "arr = np.array([3,6,5,1,6,9,33])\n",
    "print(np.sort(arr))"
   ]
  },
  {
   "cell_type": "markdown",
   "id": "758219ae",
   "metadata": {},
   "source": [
    "### Random Numbers in Numpy"
   ]
  },
  {
   "cell_type": "code",
   "execution_count": 34,
   "id": "6ea3a07c",
   "metadata": {},
   "outputs": [
    {
     "name": "stdout",
     "output_type": "stream",
     "text": [
      "86\n"
     ]
    }
   ],
   "source": [
    "from numpy import random\n",
    "x = random.randint(100)\n",
    "print(x)"
   ]
  },
  {
   "cell_type": "code",
   "execution_count": 36,
   "id": "763c9058",
   "metadata": {},
   "outputs": [
    {
     "name": "stdout",
     "output_type": "stream",
     "text": [
      "0.8006621964200333\n"
     ]
    }
   ],
   "source": [
    "x = random.rand()\n",
    "print(x) # 0 to 1"
   ]
  },
  {
   "cell_type": "code",
   "execution_count": 38,
   "id": "6fb05d77",
   "metadata": {},
   "outputs": [
    {
     "name": "stdout",
     "output_type": "stream",
     "text": [
      "[[73 63 98]\n",
      " [80 39 59]\n",
      " [85 28 61]\n",
      " [94 40  4]\n",
      " [38 95 88]]\n"
     ]
    }
   ],
   "source": [
    "# generating random array\n",
    "\n",
    "x = random.randint(100,size=(5,3))\n",
    "print(x)"
   ]
  },
  {
   "cell_type": "code",
   "execution_count": 39,
   "id": "f344bd2b",
   "metadata": {},
   "outputs": [
    {
     "name": "stdout",
     "output_type": "stream",
     "text": [
      "5\n"
     ]
    }
   ],
   "source": [
    "# with choice\n",
    "\n",
    "x = random.choice([3,4,5,1])\n",
    "print(x)"
   ]
  },
  {
   "cell_type": "code",
   "execution_count": 41,
   "id": "4e228f8a",
   "metadata": {},
   "outputs": [
    {
     "name": "stdout",
     "output_type": "stream",
     "text": [
      "[[ 2.0976164   0.55265242 -0.88187404]\n",
      " [-0.38388912  1.03775113 -0.32428242]]\n"
     ]
    }
   ],
   "source": [
    "# Generating Normal Distribution\n",
    "\n",
    "# loc - (Mean) where the peak of the bell exists\n",
    "# scale - (Standard Deviation) how flat the graph distribution should be\n",
    "# size - The shape of the returned array\n",
    "\n",
    "\n",
    "x = random.normal(size=(2,3))\n",
    "print(x)"
   ]
  },
  {
   "cell_type": "code",
   "execution_count": 42,
   "id": "aed76c33",
   "metadata": {},
   "outputs": [
    {
     "name": "stdout",
     "output_type": "stream",
     "text": [
      "[[ 2.75503079 -0.03682081  0.22349219]\n",
      " [ 1.07812426  0.52822197  1.39631599]]\n"
     ]
    }
   ],
   "source": [
    "# normal distribution with mean at 1 and standard deviation of 2\n",
    "\n",
    "x = random.normal(loc=1,scale=2,size=(2,3))\n",
    "print(x)"
   ]
  },
  {
   "cell_type": "code",
   "execution_count": null,
   "id": "0baf659a",
   "metadata": {},
   "outputs": [],
   "source": [
    "# visualising Normal Distribution using matplotlib and seaborn\n",
    "\n",
    "import matplotlib.pyplot as plt\n",
    "import seaborn as sns\n",
    "\n",
    "sns.distplot(random.normal(size=1000),hist=False)\n",
    "plt.show"
   ]
  }
 ],
 "metadata": {
  "kernelspec": {
   "display_name": "Python 3 (ipykernel)",
   "language": "python",
   "name": "python3"
  },
  "language_info": {
   "codemirror_mode": {
    "name": "ipython",
    "version": 3
   },
   "file_extension": ".py",
   "mimetype": "text/x-python",
   "name": "python",
   "nbconvert_exporter": "python",
   "pygments_lexer": "ipython3",
   "version": "3.10.5"
  }
 },
 "nbformat": 4,
 "nbformat_minor": 5
}
